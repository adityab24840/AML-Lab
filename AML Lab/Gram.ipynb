{
 "cells": [
  {
   "cell_type": "code",
   "execution_count": 4,
   "metadata": {},
   "outputs": [],
   "source": [
    "import numpy as np\n",
    "\n",
    "vectors=np.array(\n",
    "    [[0,0,4],\n",
    "     [0,1,1],\n",
    "     [1,1,1]]\n",
    ")"
   ]
  },
  {
   "cell_type": "code",
   "execution_count": 6,
   "metadata": {},
   "outputs": [],
   "source": [
    "q1=vectors[0]"
   ]
  },
  {
   "cell_type": "code",
   "execution_count": 7,
   "metadata": {},
   "outputs": [
    {
     "data": {
      "text/plain": [
       "array([0., 0., 1.])"
      ]
     },
     "execution_count": 7,
     "metadata": {},
     "output_type": "execute_result"
    }
   ],
   "source": [
    "q1_normalized= q1/np.linalg.norm(q1)\n",
    "q1_normalized"
   ]
  },
  {
   "cell_type": "code",
   "execution_count": 8,
   "metadata": {},
   "outputs": [],
   "source": [
    "basis=[]\n",
    "basis.append(q1_normalized)\n"
   ]
  },
  {
   "cell_type": "code",
   "execution_count": 12,
   "metadata": {},
   "outputs": [],
   "source": [
    "q2=vectors[1] - np.dot(q1_normalized, vectors[1]) * q1_normalized\n",
    "if np.linalg.norm(q2) < 1e-7:\n",
    "    print('q2 is dep of q1')\n",
    "else:\n",
    "    q2_normalized= q2/np.linalg.norm(q2)\n",
    "    basis.append(q2_normalized)\n",
    "    q2_normalized"
   ]
  },
  {
   "cell_type": "code",
   "execution_count": 13,
   "metadata": {},
   "outputs": [
    {
     "data": {
      "text/plain": [
       "[array([0., 0., 1.]), array([0., 1., 0.])]"
      ]
     },
     "execution_count": 13,
     "metadata": {},
     "output_type": "execute_result"
    }
   ],
   "source": [
    "basis"
   ]
  },
  {
   "cell_type": "code",
   "execution_count": 14,
   "metadata": {},
   "outputs": [],
   "source": [
    "q3= vectors[2] - np.dot(q1_normalized, vectors[2]) * q1_normalized -np.dot(q2_normalized, vectors[2]) * q2_normalized\n",
    "\n",
    "if np.linalg.norm(q3) < 1e-7:\n",
    "    print('q3 is dep of q1 and q2')\n",
    "else:\n",
    "    q3_normalized= q3/np.linalg.norm(q3)\n",
    "    basis.append(q3_normalized)\n",
    "    q3_normalized"
   ]
  },
  {
   "cell_type": "code",
   "execution_count": 15,
   "metadata": {},
   "outputs": [
    {
     "data": {
      "text/plain": [
       "[array([0., 0., 1.]), array([0., 1., 0.]), array([1., 0., 0.])]"
      ]
     },
     "execution_count": 15,
     "metadata": {},
     "output_type": "execute_result"
    }
   ],
   "source": [
    "basis"
   ]
  },
  {
   "cell_type": "code",
   "execution_count": 27,
   "metadata": {},
   "outputs": [],
   "source": [
    "def gram_schmidt(vectors):\n",
    "    basis=[]\n",
    "\n",
    "    for ai in vectors:\n",
    "        q_new = ai - np.sum( np.dot(ai,qj) * qj for qj in basis)\n",
    "        norm = np.linalg.norm(q_new)\n",
    "        if(norm>1e-10):\n",
    "            basis.append(q_new/norm)\n",
    "        else:\n",
    "            raise Exception(\"Gram-Schmidt process failed due to near-zero vector norm\")\n",
    "    return np.array(basis)"
   ]
  },
  {
   "cell_type": "code",
   "execution_count": 28,
   "metadata": {},
   "outputs": [
    {
     "name": "stderr",
     "output_type": "stream",
     "text": [
      "C:\\Users\\adity\\AppData\\Local\\Temp\\ipykernel_19188\\3791373775.py:5: DeprecationWarning: Calling np.sum(generator) is deprecated, and in the future will give a different result. Use np.sum(np.fromiter(generator)) or the python sum builtin instead.\n",
      "  q_new = ai - np.sum( np.dot(ai,qj) * qj for qj in basis)\n"
     ]
    },
    {
     "data": {
      "text/plain": [
       "array([[1., 0., 0.],\n",
       "       [0., 1., 0.],\n",
       "       [0., 0., 1.]])"
      ]
     },
     "execution_count": 28,
     "metadata": {},
     "output_type": "execute_result"
    }
   ],
   "source": [
    "gram_schmidt(vectors)"
   ]
  }
 ],
 "metadata": {
  "kernelspec": {
   "display_name": "pycaretenv",
   "language": "python",
   "name": "python3"
  },
  "language_info": {
   "codemirror_mode": {
    "name": "ipython",
    "version": 3
   },
   "file_extension": ".py",
   "mimetype": "text/x-python",
   "name": "python",
   "nbconvert_exporter": "python",
   "pygments_lexer": "ipython3",
   "version": "3.9.17"
  },
  "orig_nbformat": 4
 },
 "nbformat": 4,
 "nbformat_minor": 2
}
