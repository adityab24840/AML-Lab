{
  "cells": [
    {
      "cell_type": "code",
      "execution_count": 14,
      "metadata": {
        "id": "5dEgRpy3952M"
      },
      "outputs": [
        {
          "name": "stderr",
          "output_type": "stream",
          "text": [
            "C:\\Users\\adity\\AppData\\Local\\Temp\\ipykernel_22960\\317298329.py:5: MatplotlibDeprecationWarning: The seaborn styles shipped by Matplotlib are deprecated since 3.6, as they no longer correspond to the styles shipped by seaborn. However, they will remain available as 'seaborn-v0_8-<style>'. Alternatively, directly use the seaborn API instead.\n",
            "  plt.style.use('seaborn-whitegrid')\n"
          ]
        }
      ],
      "source": [
        "import numpy as np\n",
        "import sympy as sp\n",
        "import matplotlib.pyplot as plt\n",
        "import matplotlib.cm as cm\n",
        "plt.style.use('seaborn-whitegrid')\n",
        "%matplotlib inline"
      ]
    },
    {
      "cell_type": "markdown",
      "metadata": {
        "id": "QhXXZfGE9aLn"
      },
      "source": [
        "Consider the following 3 images with 4 features each:\n",
        "\n",
        "![](https://bl3302files.storage.live.com/y4mcU0UkgUJ6Y5qaZUyZmgDw1gnzEmExgjlJiSLd96odZuCzXAlWCWvIbyoqlziXpxKy1uXndfSB8qCdvEtfECOOHl-wW4J7xt5M_6enxAaPoKNSI8USM0c18LyKDd0Q4V1uA6hhXglPhXxIRH6WT8-qRwctLtu81mUJo7Ztjle2PyZkG6qZikxPmQeEjl3-C7i?width=400&height=120&cropmode=none)"
      ]
    },
    {
      "cell_type": "code",
      "execution_count": 25,
      "metadata": {
        "id": "CWW5t9U0zEjx"
      },
      "outputs": [
        {
          "name": "stdout",
          "output_type": "stream",
          "text": [
            "⎡26  100  90  80  1⎤\n",
            "⎢                  ⎥\n",
            "⎢2   60   20  50  1⎥\n",
            "⎢                  ⎥\n",
            "⎣80  10   4   60  1⎦\n",
            "⎡1⎤\n",
            "⎢ ⎥\n",
            "⎢0⎥\n",
            "⎢ ⎥\n",
            "⎣0⎦\n"
          ]
        }
      ],
      "source": [
        "# Define numpy arrays for each image\n",
        "x1 = np.array([26, 100, 90, 80, 1]) # Image-1\n",
        "x2 = np.array([2, 60, 20, 50, 1]) # Image-2\n",
        "x3 = np.array([80, 10, 4, 60, 1]) # Image-3\n",
        "\n",
        "# Build symbolic data matrix\n",
        "X = sp.Matrix(np.stack((x1, x2, x3 ), axis = 0))\n",
        "\n",
        "# Pretty print symbolic matrix\n",
        "sp.pprint(X)\n",
        "\n",
        "y=sp.Matrix(np.array([1,0,0]))\n",
        "sp.pprint(y)"
      ]
    },
    {
      "cell_type": "code",
      "execution_count": 20,
      "metadata": {
        "id": "wtOzr96Z0P75"
      },
      "outputs": [
        {
          "name": "stdout",
          "output_type": "stream",
          "text": [
            "⎡W₀₀⎤\n",
            "⎢   ⎥\n",
            "⎢W₁₀⎥\n",
            "⎢   ⎥\n",
            "⎢W₂₀⎥\n",
            "⎢   ⎥\n",
            "⎢W₃₀⎥\n",
            "⎢   ⎥\n",
            "⎣W₄₀⎦\n"
          ]
        }
      ],
      "source": [
        "# Create symbolic weight matrix\n",
        "W = sp.MatrixSymbol('W', 5, 1)\n",
        "\n",
        "# Pretty print symbolic weight matrix\n",
        "sp.pprint(sp.Matrix(W)) # Pretty print symbolic weight matrix"
      ]
    },
    {
      "cell_type": "code",
      "execution_count": 21,
      "metadata": {
        "id": "kM918JKh02ic"
      },
      "outputs": [
        {
          "name": "stdout",
          "output_type": "stream",
          "text": [
            "⎡26  100  90  80  1⎤  \n",
            "⎢                  ⎥  \n",
            "⎢2   60   20  50  1⎥⋅W\n",
            "⎢                  ⎥  \n",
            "⎣80  10   4   60  1⎦  \n",
            "26⋅W₀₀ + 100⋅W₁₀ + 90⋅W₂₀ + 80⋅W₃₀ + W₄₀\n"
          ]
        }
      ],
      "source": [
        "# Calculate symbolic raw zcores\n",
        "Z = X * W\n",
        "sp.pprint(Z)\n",
        "sp.pprint(Z[0])"
      ]
    },
    {
      "cell_type": "code",
      "execution_count": 38,
      "metadata": {
        "id": "lfjVmHXs1wF6"
      },
      "outputs": [
        {
          "name": "stdout",
          "output_type": "stream",
          "text": [
            "                       ⎛                         1                      ⎞     \n",
            "- 0.333333333333333⋅log⎜1 - ────────────────────────────────────────────⎟ - 0.\n",
            "                       ⎜     -80⋅W₀₀ - 10⋅W₁₀ - 4⋅W₂₀ - 60⋅W₃₀ - W₄₀    ⎟     \n",
            "                       ⎝    ℯ                                        + 1⎠     \n",
            "\n",
            "                   ⎛                         1                      ⎞         \n",
            "333333333333333⋅log⎜1 - ────────────────────────────────────────────⎟ - 0.3333\n",
            "                   ⎜     -2⋅W₀₀ - 60⋅W₁₀ - 20⋅W₂₀ - 50⋅W₃₀ - W₄₀    ⎟         \n",
            "                   ⎝    ℯ                                        + 1⎠         \n",
            "\n",
            "               ⎛                     1                      ⎞                 \n",
            "33333333333⋅log⎜────────────────────────────────────────────⎟ - 0.333333333333\n",
            "               ⎜ -80⋅W₀₀ - 10⋅W₁₀ - 4⋅W₂₀ - 60⋅W₃₀ - W₄₀    ⎟                 \n",
            "               ⎝ℯ                                        + 1⎠                 \n",
            "\n",
            "       ⎛                      1                       ⎞                       \n",
            "333⋅log⎜──────────────────────────────────────────────⎟ - 0.333333333333333⋅lo\n",
            "       ⎜ -26⋅W₀₀ - 100⋅W₁₀ - 90⋅W₂₀ - 80⋅W₃₀ - W₄₀    ⎟                       \n",
            "       ⎝ℯ                                          + 1⎠                       \n",
            "\n",
            " ⎛                     1                      ⎞                    \n",
            "g⎜────────────────────────────────────────────⎟ - 0.333333333333333\n",
            " ⎜ -2⋅W₀₀ - 60⋅W₁₀ - 20⋅W₂₀ - 50⋅W₃₀ - W₄₀    ⎟                    \n",
            " ⎝ℯ                                        + 1⎠                    \n"
          ]
        }
      ],
      "source": [
        "# Calculate binary cross entropy loss for each image\n",
        "loss_1 = (-y[0] -sp.log(1 / (1 + sp.exp(-Z[0])))) - ((1 - y[0]) * sp.log(1 - (1 / (1 + sp.exp(-Z[0])))))\n",
        "loss_2 = (-y[1] -sp.log(1 / (1 + sp.exp(-Z[1])))) - ((1 - y[1]) * sp.log(1 - (1/  (1 + sp.exp(-Z[1])))))\n",
        "loss_3 = (-y[2] -sp.log(1 / (1 + sp.exp(-Z[2])))) - ((1 - y[2]) * sp.log(1-  (1 / (1 + sp.exp(-Z[2])))))\n",
        "\n",
        "\n",
        "# Calculate symbolic average softmax loss\n",
        "average_loss = (1/3)*(loss_1 + loss_2 + loss_3)\n",
        "\n",
        "# Pretty print symbolic average softmax loss\n",
        "sp.pprint(average_loss)"
      ]
    },
    {
      "cell_type": "code",
      "execution_count": 50,
      "metadata": {
        "id": "vAK2713D7E3j"
      },
      "outputs": [
        {
          "data": {
            "text/latex": [
              "$\\displaystyle 22.5449215081191$"
            ],
            "text/plain": [
              "22.5449215081191"
            ]
          },
          "execution_count": 50,
          "metadata": {},
          "output_type": "execute_result"
        }
      ],
      "source": [
        "# Evaluate average softmax loss for arbitrary weight values\n",
        "average_loss.evalf(subs = {W: sp.Matrix(np.random.randn((4+1),1))})"
      ]
    }
  ],
  "metadata": {
    "colab": {
      "provenance": []
    },
    "kernelspec": {
      "display_name": "Python 3",
      "name": "python3"
    },
    "language_info": {
      "codemirror_mode": {
        "name": "ipython",
        "version": 3
      },
      "file_extension": ".py",
      "mimetype": "text/x-python",
      "name": "python",
      "nbconvert_exporter": "python",
      "pygments_lexer": "ipython3",
      "version": "3.10.11"
    }
  },
  "nbformat": 4,
  "nbformat_minor": 0
}
