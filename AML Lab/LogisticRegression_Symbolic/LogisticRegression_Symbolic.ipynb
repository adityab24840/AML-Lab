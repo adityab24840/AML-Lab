{
  "nbformat": 4,
  "nbformat_minor": 0,
  "metadata": {
    "colab": {
      "provenance": []
    },
    "kernelspec": {
      "name": "python3",
      "display_name": "Python 3"
    }
  },
  "cells": [
    {
      "cell_type": "code",
      "metadata": {
        "id": "5dEgRpy3952M"
      },
      "source": [
        "import numpy as np\n",
        "import sympy as sp\n",
        "import matplotlib.pyplot as plt\n",
        "import matplotlib.cm as cm\n",
        "plt.style.use('seaborn-whitegrid')\n",
        "%matplotlib inline"
      ],
      "execution_count": null,
      "outputs": []
    },
    {
      "cell_type": "markdown",
      "metadata": {
        "id": "QhXXZfGE9aLn"
      },
      "source": [
        "Consider the following 3 images with 4 features each:\n",
        "\n",
        "![](https://bl3302files.storage.live.com/y4mcU0UkgUJ6Y5qaZUyZmgDw1gnzEmExgjlJiSLd96odZuCzXAlWCWvIbyoqlziXpxKy1uXndfSB8qCdvEtfECOOHl-wW4J7xt5M_6enxAaPoKNSI8USM0c18LyKDd0Q4V1uA6hhXglPhXxIRH6WT8-qRwctLtu81mUJo7Ztjle2PyZkG6qZikxPmQeEjl3-C7i?width=400&height=120&cropmode=none)"
      ]
    },
    {
      "cell_type": "code",
      "metadata": {
        "id": "CWW5t9U0zEjx"
      },
      "source": [
        "# Define numpy arrays for each image\n",
        "x1 = np.array([26, 100, 90, 80, 1]) # Image-1\n",
        "x2 = np.array([2, 60, 20, 50, 1]) # Image-2\n",
        "x3 = np.array([80, 10, 4, 60, 1]) # Image-3\n",
        "\n",
        "# Build symbolic data matrix\n",
        "X = sp.Matrix(np.stack((x1, x2, x3 ), axis = 1))\n",
        "\n",
        "# Pretty print symbolic matrix\n",
        "sp.pprint(X)"
      ],
      "execution_count": null,
      "outputs": []
    },
    {
      "cell_type": "code",
      "metadata": {
        "id": "wtOzr96Z0P75"
      },
      "source": [
        "# Create symbolic weight matrix\n",
        "W = sp.MatrixSymbol('W', 1, (4+1))\n",
        "\n",
        "# Pretty print symbolic weight matrix\n",
        "sp.pprint(sp.Matrix(W)) # Pretty print symbolic weight matrix"
      ],
      "execution_count": null,
      "outputs": []
    },
    {
      "cell_type": "code",
      "metadata": {
        "id": "kM918JKh02ic"
      },
      "source": [
        "# Calculate symbolic raw zcores\n",
        "Z = W*X\n",
        "sp.pprint(Z[0, 1])"
      ],
      "execution_count": null,
      "outputs": []
    },
    {
      "cell_type": "code",
      "metadata": {
        "id": "lfjVmHXs1wF6"
      },
      "source": [
        "# Calculate binary cross entropy loss for each image\n",
        "loss_1 =\n",
        "loss_2 =\n",
        "loss_3 =\n",
        "\n",
        "# Calculate symbolic average softmax loss\n",
        "average_loss = (1/3)*(loss_1 + loss_2 + loss_3)\n",
        "\n",
        "# Pretty print symbolic average softmax loss\n",
        "sp.pprint(average_loss)"
      ],
      "execution_count": null,
      "outputs": []
    },
    {
      "cell_type": "code",
      "metadata": {
        "id": "vAK2713D7E3j"
      },
      "source": [
        "# Evaluate average softmax loss for arbitrary weight values\n",
        "average_loss.evalf(subs = {W: sp.Matrix(np.random.randn(1,(4+1)))})"
      ],
      "execution_count": null,
      "outputs": []
    }
  ]
}