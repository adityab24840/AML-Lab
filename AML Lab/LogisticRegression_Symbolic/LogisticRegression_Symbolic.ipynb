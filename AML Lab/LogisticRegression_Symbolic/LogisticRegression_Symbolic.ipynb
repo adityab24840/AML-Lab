{
  "cells": [
    {
      "cell_type": "code",
      "execution_count": 3,
      "metadata": {
        "id": "5dEgRpy3952M"
      },
      "outputs": [
        {
          "name": "stderr",
          "output_type": "stream",
          "text": [
            "C:\\Users\\adity\\AppData\\Local\\Temp\\ipykernel_22960\\317298329.py:5: MatplotlibDeprecationWarning: The seaborn styles shipped by Matplotlib are deprecated since 3.6, as they no longer correspond to the styles shipped by seaborn. However, they will remain available as 'seaborn-v0_8-<style>'. Alternatively, directly use the seaborn API instead.\n",
            "  plt.style.use('seaborn-whitegrid')\n"
          ]
        }
      ],
      "source": [
        "import numpy as np\n",
        "import sympy as sp\n",
        "import matplotlib.pyplot as plt\n",
        "import matplotlib.cm as cm\n",
        "plt.style.use('seaborn-whitegrid')\n",
        "%matplotlib inline"
      ]
    },
    {
      "cell_type": "markdown",
      "metadata": {
        "id": "QhXXZfGE9aLn"
      },
      "source": [
        "Consider the following 3 images with 4 features each:\n",
        "\n",
        "![](https://bl3302files.storage.live.com/y4mcU0UkgUJ6Y5qaZUyZmgDw1gnzEmExgjlJiSLd96odZuCzXAlWCWvIbyoqlziXpxKy1uXndfSB8qCdvEtfECOOHl-wW4J7xt5M_6enxAaPoKNSI8USM0c18LyKDd0Q4V1uA6hhXglPhXxIRH6WT8-qRwctLtu81mUJo7Ztjle2PyZkG6qZikxPmQeEjl3-C7i?width=400&height=120&cropmode=none)"
      ]
    },
    {
      "cell_type": "code",
      "execution_count": 6,
      "metadata": {
        "id": "CWW5t9U0zEjx"
      },
      "outputs": [
        {
          "name": "stdout",
          "output_type": "stream",
          "text": [
            "⎡26  100  90  80  1⎤\n",
            "⎢                  ⎥\n",
            "⎢2   60   20  50  1⎥\n",
            "⎢                  ⎥\n",
            "⎣80  10   4   60  1⎦\n"
          ]
        }
      ],
      "source": [
        "# Define numpy arrays for each image\n",
        "x1 = np.array([26, 100, 90, 80, 1]) # Image-1\n",
        "x2 = np.array([2, 60, 20, 50, 1]) # Image-2\n",
        "x3 = np.array([80, 10, 4, 60, 1]) # Image-3\n",
        "\n",
        "# Build symbolic data matrix\n",
        "X = sp.Matrix(np.stack((x1, x2, x3 ), axis = 0))\n",
        "\n",
        "# Pretty print symbolic matrix\n",
        "sp.pprint(X)"
      ]
    },
    {
      "cell_type": "code",
      "execution_count": 7,
      "metadata": {
        "id": "wtOzr96Z0P75"
      },
      "outputs": [
        {
          "name": "stdout",
          "output_type": "stream",
          "text": [
            "[W₀₀  W₀₁  W₀₂  W₀₃  W₀₄]\n"
          ]
        }
      ],
      "source": [
        "# Create symbolic weight matrix\n",
        "W = sp.MatrixSymbol('W', 1, (4+1))\n",
        "\n",
        "# Pretty print symbolic weight matrix\n",
        "sp.pprint(sp.Matrix(W)) # Pretty print symbolic weight matrix"
      ]
    },
    {
      "cell_type": "code",
      "execution_count": null,
      "metadata": {
        "id": "kM918JKh02ic"
      },
      "outputs": [],
      "source": [
        "# Calculate symbolic raw zcores\n",
        "Z = W*X\n",
        "sp.pprint(Z[0, 1])"
      ]
    },
    {
      "cell_type": "code",
      "execution_count": null,
      "metadata": {
        "id": "lfjVmHXs1wF6"
      },
      "outputs": [],
      "source": [
        "# Calculate binary cross entropy loss for each image\n",
        "loss_1 =\n",
        "loss_2 =\n",
        "loss_3 =\n",
        "\n",
        "# Calculate symbolic average softmax loss\n",
        "average_loss = (1/3)*(loss_1 + loss_2 + loss_3)\n",
        "\n",
        "# Pretty print symbolic average softmax loss\n",
        "sp.pprint(average_loss)"
      ]
    },
    {
      "cell_type": "code",
      "execution_count": null,
      "metadata": {
        "id": "vAK2713D7E3j"
      },
      "outputs": [],
      "source": [
        "# Evaluate average softmax loss for arbitrary weight values\n",
        "average_loss.evalf(subs = {W: sp.Matrix(np.random.randn(1,(4+1)))})"
      ]
    }
  ],
  "metadata": {
    "colab": {
      "provenance": []
    },
    "kernelspec": {
      "display_name": "Python 3",
      "name": "python3"
    },
    "language_info": {
      "codemirror_mode": {
        "name": "ipython",
        "version": 3
      },
      "file_extension": ".py",
      "mimetype": "text/x-python",
      "name": "python",
      "nbconvert_exporter": "python",
      "pygments_lexer": "ipython3",
      "version": "3.10.11"
    }
  },
  "nbformat": 4,
  "nbformat_minor": 0
}
