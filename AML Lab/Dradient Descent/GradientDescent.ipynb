{
  "cells": [
    {
      "cell_type": "markdown",
      "metadata": {
        "id": "R5VPHPs-tRlh"
      },
      "source": [
        "Import libraries"
      ]
    },
    {
      "cell_type": "code",
      "execution_count": 1,
      "metadata": {
        "id": "5dEgRpy3952M"
      },
      "outputs": [
        {
          "name": "stderr",
          "output_type": "stream",
          "text": [
            "C:\\Users\\adity\\AppData\\Local\\Temp\\ipykernel_2824\\2619784336.py:3: MatplotlibDeprecationWarning: The seaborn styles shipped by Matplotlib are deprecated since 3.6, as they no longer correspond to the styles shipped by seaborn. However, they will remain available as 'seaborn-v0_8-<style>'. Alternatively, directly use the seaborn API instead.\n",
            "  plt.style.use('seaborn-whitegrid')\n"
          ]
        }
      ],
      "source": [
        "import numpy as np\n",
        "import matplotlib.pyplot as plt\n",
        "plt.style.use('seaborn-whitegrid')\n",
        "%matplotlib inline"
      ]
    },
    {
      "cell_type": "markdown",
      "metadata": {
        "id": "7HE2LfpvtWts"
      },
      "source": [
        "Let's look at a function of one independent variable:\n",
        "$$L = (w-10)^3 + 2w.$$"
      ]
    },
    {
      "cell_type": "code",
      "execution_count": 2,
      "metadata": {
        "id": "OQhQkhhucUeU"
      },
      "outputs": [
        {
          "data": {
            "text/plain": [
              "Text(0, 0.5, 'L(w)')"
            ]
          },
          "execution_count": 2,
          "metadata": {},
          "output_type": "execute_result"
        },
        {
          "data": {
            "image/png": "[encoded data removed]",
            "text/plain": [
              "<Figure size 400x400 with 1 Axes>"
            ]
          },
          "metadata": {},
          "output_type": "display_data"
        }
      ],
      "source": [
        "## Let's look at a function of one independent variable\n",
        "#L = lambda w: (w-10)**3 + 2*w\n",
        "L = lambda w: (w-10)**2 + 2*w\n",
        "fig, ax = plt.subplots(1, 1, figsize = (4, 4))\n",
        "w = np.arange(-30, 30, 1e-03)\n",
        "ax.plot(w, L(w), 'k-')\n",
        "ax.set_xlabel('w')\n",
        "ax.set_ylabel('L(w)')"
      ]
    },
    {
      "cell_type": "markdown",
      "metadata": {
        "id": "tANE7j4ktkr8"
      },
      "source": [
        "Gradient descent in 1D"
      ]
    },
    {
      "cell_type": "code",
      "execution_count": null,
      "metadata": {
        "id": "jkgAj28XNDY0"
      },
      "outputs": [],
      "source": [
        "## Gradient descent in 1D\n",
        "L = lambda w: w**2 + 3\n",
        "gradL  = lambda w: 2*w\n",
        "\n",
        "# Try 1e-05 (slow learning rate), 1e-01 (optimal),\n",
        "# 1e0 (oscillates and does not converge),\n",
        "# and 0.95 (oscillates towards the end and converges)\n",
        "alpha = 1e-01 # learning rate (or) step size\n",
        "tol = 1e-05 # stopping tolerance\n",
        "iter = 0\n",
        "maxiter = 1000\n",
        "\n",
        "w = 1 # starting point\n",
        "\n",
        "# Learning process\n",
        "while np.abs(gradL(w)) > tol and iter < maxiter:\n",
        "  w = w + alpha * -gradL(w)\n",
        "  iter = iter+1\n",
        "  print('Iteration = %d, w = %f, gradL(w) = %f'%(iter, w, gradL(w)))"
      ]
    },
    {
      "cell_type": "markdown",
      "metadata": {
        "id": "5B_lYwK8uJjT"
      },
      "source": [
        "Gradient descent in 2D for a function of two variables: $$L(w_1, w_2) = (w_1-2)^2+(w_1+3)^2.$$"
      ]
    },
    {
      "cell_type": "code",
      "execution_count": null,
      "metadata": {
        "id": "CpcTS8SYuG-c"
      },
      "outputs": [],
      "source": [
        "## Gradient descent in 2D\n",
        "L = lambda w: (w[0]-2)**2 + (w[1]+3)**2\n",
        "gradL = lambda w: np.array([2*(w[0]-2), 2*(w[1]+3)])\n",
        "alpha = 1e1 # learning rate (or) step size\n",
        "tol = 1e-05 # stopping tolerance\n",
        "iter = 0\n",
        "maxiter = 1000\n",
        "\n",
        "w =  np.array([1, 1]) # initial guess\n",
        "\n",
        "while np.linalg.norm(gradL(w)) > tol and iter < maxiter:\n",
        "  w = w + alpha *(-gradL(w))\n",
        "  iter = iter+1\n",
        "  print('Iteration = %d, w1 = %f, w2 = %f, ||gradL(w)|| = %f'%(iter, w[0], w[1], np.linalg.norm(gradL(w))))"
      ]
    }
  ],
  "metadata": {
    "colab": {
      "provenance": []
    },
    "kernelspec": {
      "display_name": "Python 3",
      "name": "python3"
    },
    "language_info": {
      "codemirror_mode": {
        "name": "ipython",
        "version": 3
      },
      "file_extension": ".py",
      "mimetype": "text/x-python",
      "name": "python",
      "nbconvert_exporter": "python",
      "pygments_lexer": "ipython3",
      "version": "3.10.11"
    }
  },
  "nbformat": 4,
  "nbformat_minor": 0
}
