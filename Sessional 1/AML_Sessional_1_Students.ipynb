{
 "cells": [
  {
   "cell_type": "markdown",
   "id": "19e9ad28",
   "metadata": {},
   "source": [
    "# AML Lab Sessional 1 Jupyter Notebook"
   ]
  },
  {
   "cell_type": "markdown",
   "id": "7bd62e2c",
   "metadata": {},
   "source": [
    "### 1. VS Code is a MUST\n",
    "1. You should code in VS Code. Google Colab not allowed\n",
    "\n",
    "### 2. Pre-requisites for lab in VS Code\n",
    "1. Install PDF export support https://saturncloud.io/blog/how-to-export-jupyter-notebook-by-vscode-in-pdf-format/\n",
    "\n",
    "### 3. At the end, export your notebook as html and ipynb \n",
    "1. Open VS Code command palette Shift + Ctrl + P\n",
    "2. Type \"Export Jupyter Notebook\" in the search bar and select \"Export Jupyter Notebook to html\"\n",
    "3. Upload your html AND ipynb here: https://tinyurl.com/y9ptbej2 (In the prompt, put your name correctly else your submission will be rejected)"
   ]
  },
  {
   "cell_type": "markdown",
   "id": "53215768",
   "metadata": {},
   "source": [
    "### 4. Lab Sessional Summary \n",
    "1. A code template is given to you in lab sesional in this jupyter notebook\n",
    "2. The template will follow a linear sequence of TODOs appropriately labelled with question marks\n",
    "3. You will have to fill the TODO question marks to compile those notebook cells and proceed to next cells\n",
    "4. You can think of the linear sequence of TODOs as a guided thought process.\n",
    "5. Sessional is open book. Google, github, browse product documentation ChatGPT - Do anything you want, except copying others. No discussing among yourselves (Sending questions to your seniors and seeking answers is prohibited). If you are caught carrying out these illegal activities, you will be reported for immediate action. \n",
    "6. You CANNOT replace the TODO code template with some other code copied from stack overflow, ChatGPT etc. All your browsing and search should give you insights into finally how you can fit that into the framework I provide for the thought process of solving the problem. You will have to mandatorily fill the question marks and proceed with the lab problem."
   ]
  },
  {
   "cell_type": "code",
   "execution_count": 482,
   "id": "e0921e09",
   "metadata": {},
   "outputs": [],
   "source": [
    "import numpy as np\n",
    "import pandas as pd\n",
    "import sklearn as sk\n",
    "\n",
    "import matplotlib.pyplot as plt\n",
    "import seaborn as sns\n",
    "%matplotlib inline\n",
    "\n",
    "import warnings\n",
    "warnings.filterwarnings(\"ignore\")"
   ]
  },
  {
   "cell_type": "code",
   "execution_count": 483,
   "id": "082003a1",
   "metadata": {},
   "outputs": [
    {
     "data": {
      "text/plain": [
       "'1.2.2'"
      ]
     },
     "execution_count": 483,
     "metadata": {},
     "output_type": "execute_result"
    }
   ],
   "source": [
    "sk.__version__"
   ]
  },
  {
   "cell_type": "markdown",
   "id": "adeb5407",
   "metadata": {},
   "source": [
    "### Problem Definition\n",
    "\n",
    "You are provided with diabetes dataset. Your task is:\n",
    "\n",
    "1. Part 1: To perform EDA and prediction without pipeline\n",
    "2. Part 2: To move EDA and kNN prediction into a pipeline\n",
    "3. Part 3: To combine the pipeline and gridsearch to get best K and weights hyperparameters\n",
    "4. Part 4: Save the model as json file, load & use it to do prediction. This part is optional and will be used to accumulate bonus points as a buffer for the semester lab exam if there is any shortfall"
   ]
  },
  {
   "cell_type": "markdown",
   "id": "875fa98f",
   "metadata": {},
   "source": [
    "# Part 1 - Perform EDA and prediction without pipeline"
   ]
  },
  {
   "cell_type": "code",
   "execution_count": 484,
   "id": "6550eae7",
   "metadata": {},
   "outputs": [
    {
     "data": {
      "text/html": [
       "<div>\n",
       "<style scoped>\n",
       "    .dataframe tbody tr th:only-of-type {\n",
       "        vertical-align: middle;\n",
       "    }\n",
       "\n",
       "    .dataframe tbody tr th {\n",
       "        vertical-align: top;\n",
       "    }\n",
       "\n",
       "    .dataframe thead th {\n",
       "        text-align: right;\n",
       "    }\n",
       "</style>\n",
       "<table border=\"1\" class=\"dataframe\">\n",
       "  <thead>\n",
       "    <tr style=\"text-align: right;\">\n",
       "      <th></th>\n",
       "      <th>Pregnancies</th>\n",
       "      <th>Glucose</th>\n",
       "      <th>BloodPressure</th>\n",
       "      <th>SkinThickness</th>\n",
       "      <th>Insulin</th>\n",
       "      <th>BMI</th>\n",
       "      <th>DiabetesPedigreeFunction</th>\n",
       "      <th>Age</th>\n",
       "      <th>Outcome</th>\n",
       "    </tr>\n",
       "  </thead>\n",
       "  <tbody>\n",
       "    <tr>\n",
       "      <th>0</th>\n",
       "      <td>2</td>\n",
       "      <td>138</td>\n",
       "      <td>62</td>\n",
       "      <td>35</td>\n",
       "      <td>0</td>\n",
       "      <td>33.6</td>\n",
       "      <td>0.127</td>\n",
       "      <td>47</td>\n",
       "      <td>1</td>\n",
       "    </tr>\n",
       "    <tr>\n",
       "      <th>1</th>\n",
       "      <td>0</td>\n",
       "      <td>84</td>\n",
       "      <td>82</td>\n",
       "      <td>31</td>\n",
       "      <td>125</td>\n",
       "      <td>38.2</td>\n",
       "      <td>0.233</td>\n",
       "      <td>23</td>\n",
       "      <td>0</td>\n",
       "    </tr>\n",
       "    <tr>\n",
       "      <th>2</th>\n",
       "      <td>0</td>\n",
       "      <td>145</td>\n",
       "      <td>0</td>\n",
       "      <td>0</td>\n",
       "      <td>0</td>\n",
       "      <td>44.2</td>\n",
       "      <td>0.630</td>\n",
       "      <td>31</td>\n",
       "      <td>1</td>\n",
       "    </tr>\n",
       "    <tr>\n",
       "      <th>3</th>\n",
       "      <td>0</td>\n",
       "      <td>135</td>\n",
       "      <td>68</td>\n",
       "      <td>42</td>\n",
       "      <td>250</td>\n",
       "      <td>42.3</td>\n",
       "      <td>0.365</td>\n",
       "      <td>24</td>\n",
       "      <td>1</td>\n",
       "    </tr>\n",
       "    <tr>\n",
       "      <th>4</th>\n",
       "      <td>1</td>\n",
       "      <td>139</td>\n",
       "      <td>62</td>\n",
       "      <td>41</td>\n",
       "      <td>480</td>\n",
       "      <td>40.7</td>\n",
       "      <td>0.536</td>\n",
       "      <td>21</td>\n",
       "      <td>0</td>\n",
       "    </tr>\n",
       "  </tbody>\n",
       "</table>\n",
       "</div>"
      ],
      "text/plain": [
       "   Pregnancies  Glucose  BloodPressure  SkinThickness  Insulin   BMI  \\\n",
       "0            2      138             62             35        0  33.6   \n",
       "1            0       84             82             31      125  38.2   \n",
       "2            0      145              0              0        0  44.2   \n",
       "3            0      135             68             42      250  42.3   \n",
       "4            1      139             62             41      480  40.7   \n",
       "\n",
       "   DiabetesPedigreeFunction  Age  Outcome  \n",
       "0                     0.127   47        1  \n",
       "1                     0.233   23        0  \n",
       "2                     0.630   31        1  \n",
       "3                     0.365   24        1  \n",
       "4                     0.536   21        0  "
      ]
     },
     "execution_count": 484,
     "metadata": {},
     "output_type": "execute_result"
    }
   ],
   "source": [
    "# TODO: 1 Load the csv file\n",
    "df = pd.read_csv('d2.csv')\n",
    "df.head()"
   ]
  },
  {
   "cell_type": "code",
   "execution_count": 485,
   "id": "b5283e45",
   "metadata": {},
   "outputs": [
    {
     "name": "stdout",
     "output_type": "stream",
     "text": [
      "<class 'pandas.core.frame.DataFrame'>\n",
      "RangeIndex: 2000 entries, 0 to 1999\n",
      "Data columns (total 9 columns):\n",
      " #   Column                    Non-Null Count  Dtype  \n",
      "---  ------                    --------------  -----  \n",
      " 0   Pregnancies               2000 non-null   int64  \n",
      " 1   Glucose                   2000 non-null   int64  \n",
      " 2   BloodPressure             2000 non-null   int64  \n",
      " 3   SkinThickness             2000 non-null   int64  \n",
      " 4   Insulin                   2000 non-null   int64  \n",
      " 5   BMI                       2000 non-null   float64\n",
      " 6   DiabetesPedigreeFunction  2000 non-null   float64\n",
      " 7   Age                       2000 non-null   int64  \n",
      " 8   Outcome                   2000 non-null   int64  \n",
      "dtypes: float64(2), int64(7)\n",
      "memory usage: 140.8 KB\n"
     ]
    }
   ],
   "source": [
    "# TODO: 2 Display information about dataframe\n",
    "df.info(verbose=True, show_counts=True) "
   ]
  },
  {
   "cell_type": "code",
   "execution_count": 486,
   "id": "96d8267f",
   "metadata": {},
   "outputs": [
    {
     "data": {
      "text/plain": [
       "Pregnancies                 0\n",
       "Glucose                     0\n",
       "BloodPressure               0\n",
       "SkinThickness               0\n",
       "Insulin                     0\n",
       "BMI                         0\n",
       "DiabetesPedigreeFunction    0\n",
       "Age                         0\n",
       "Outcome                     0\n",
       "dtype: int64"
      ]
     },
     "execution_count": 486,
     "metadata": {},
     "output_type": "execute_result"
    }
   ],
   "source": [
    "# TODO: 3 Check if there are nulls and display their total for each feature\n",
    "df.isnull().sum()"
   ]
  },
  {
   "cell_type": "code",
   "execution_count": 487,
   "id": "a3ac05f0",
   "metadata": {},
   "outputs": [
    {
     "name": "stdout",
     "output_type": "stream",
     "text": [
      "Number of duplicates = 1256\n"
     ]
    }
   ],
   "source": [
    "# TODO: 4 Check for duplicates\n",
    "dupsSeries = df.duplicated() \n",
    "\n",
    "# Print the number of duplicates\n",
    "print(f\"Number of duplicates = {dupsSeries.sum()}\")"
   ]
  },
  {
   "cell_type": "code",
   "execution_count": 488,
   "id": "087472ff",
   "metadata": {},
   "outputs": [
    {
     "data": {
      "text/plain": [
       "0       False\n",
       "1       False\n",
       "2       False\n",
       "3       False\n",
       "4       False\n",
       "        ...  \n",
       "1995     True\n",
       "1996     True\n",
       "1997     True\n",
       "1998     True\n",
       "1999     True\n",
       "Length: 2000, dtype: bool"
      ]
     },
     "execution_count": 488,
     "metadata": {},
     "output_type": "execute_result"
    }
   ],
   "source": [
    "dupsSeries"
   ]
  },
  {
   "cell_type": "code",
   "execution_count": 489,
   "id": "9257f7e9",
   "metadata": {},
   "outputs": [],
   "source": [
    "# TODO: 5 Drop duplicates inplace\n",
    "df.drop_duplicates(inplace=True)"
   ]
  },
  {
   "cell_type": "code",
   "execution_count": 490,
   "id": "a2966934",
   "metadata": {},
   "outputs": [
    {
     "name": "stdout",
     "output_type": "stream",
     "text": [
      "<class 'pandas.core.frame.DataFrame'>\n",
      "Int64Index: 744 entries, 0 to 1568\n",
      "Data columns (total 9 columns):\n",
      " #   Column                    Non-Null Count  Dtype  \n",
      "---  ------                    --------------  -----  \n",
      " 0   Pregnancies               744 non-null    int64  \n",
      " 1   Glucose                   744 non-null    int64  \n",
      " 2   BloodPressure             744 non-null    int64  \n",
      " 3   SkinThickness             744 non-null    int64  \n",
      " 4   Insulin                   744 non-null    int64  \n",
      " 5   BMI                       744 non-null    float64\n",
      " 6   DiabetesPedigreeFunction  744 non-null    float64\n",
      " 7   Age                       744 non-null    int64  \n",
      " 8   Outcome                   744 non-null    int64  \n",
      "dtypes: float64(2), int64(7)\n",
      "memory usage: 58.1 KB\n"
     ]
    }
   ],
   "source": [
    "# TODO: 6 Display how many rows exist in dataframe after dropping duplicates\n",
    "df.info(verbose=True, show_counts=True)"
   ]
  },
  {
   "cell_type": "code",
   "execution_count": 491,
   "id": "5c2313b0",
   "metadata": {},
   "outputs": [
    {
     "name": "stdout",
     "output_type": "stream",
     "text": [
      "totla number of rows exist in dataframe after dropping duplicates is 744\n"
     ]
    }
   ],
   "source": [
    "print('totla number of rows exist in dataframe after dropping duplicates is '+ str(len(df)))"
   ]
  },
  {
   "cell_type": "code",
   "execution_count": 492,
   "id": "9aa203e5",
   "metadata": {},
   "outputs": [
    {
     "data": {
      "text/plain": [
       "Pregnancies                  17\n",
       "Glucose                     136\n",
       "BloodPressure                47\n",
       "SkinThickness                53\n",
       "Insulin                     182\n",
       "BMI                         247\n",
       "DiabetesPedigreeFunction    505\n",
       "Age                          52\n",
       "Outcome                       2\n",
       "dtype: int64"
      ]
     },
     "execution_count": 492,
     "metadata": {},
     "output_type": "execute_result"
    }
   ],
   "source": [
    "# TODO: 7 Identify candidate features for encoding by seeing how many distinct values are present in every column \n",
    "df.nunique() "
   ]
  },
  {
   "cell_type": "code",
   "execution_count": 493,
   "id": "54a9b308",
   "metadata": {},
   "outputs": [
    {
     "data": {
      "text/plain": [
       "array([ 2,  0,  1,  4,  8,  3,  6,  5,  7, 10, 12,  9, 11, 13, 15, 17, 14],\n",
       "      dtype=int64)"
      ]
     },
     "execution_count": 493,
     "metadata": {},
     "output_type": "execute_result"
    }
   ],
   "source": [
    "# TODO: 8\n",
    "# Display all possible values that the column named \"Pregnancies\" has in this dataframe\n",
    "df[\"Pregnancies\"].unique()\n",
    "\n",
    "# Based on different possible values of Pregnancies, would you choose this feature to be encoded?\n",
    "# State your reason as 1 sentence comment here\n",
    "# ____________________________________________"
   ]
  },
  {
   "cell_type": "code",
   "execution_count": 494,
   "id": "20725f4e",
   "metadata": {},
   "outputs": [
    {
     "name": "stdout",
     "output_type": "stream",
     "text": [
      "Based on different possible values of Pregnancies, would you choose this feature to be encoded??? \n",
      "No, because it already contains discrete numerical values and it can  be directly  used without the need for one hot encoding \n"
     ]
    }
   ],
   "source": [
    "print('Based on different possible values of Pregnancies, would you choose this feature to be encoded??? \\nNo, because it already contains discrete numerical values and it can  be directly  used without the need for one hot encoding ')"
   ]
  },
  {
   "cell_type": "code",
   "execution_count": 495,
   "id": "2356465a",
   "metadata": {},
   "outputs": [
    {
     "data": {
      "text/plain": [
       "1.9407114624505928"
      ]
     },
     "execution_count": 495,
     "metadata": {},
     "output_type": "execute_result"
    }
   ],
   "source": [
    "# TODO: 9 Find if this is an dataset is imbalanced wrt target variable classes\n",
    "zeroClassCount = df[df[\"Outcome\"] == 0][\"Outcome\"].count()\n",
    "zeroClassCount/df[df[\"Outcome\"] == 1][\"Outcome\"].count() "
   ]
  },
  {
   "cell_type": "code",
   "execution_count": 541,
   "id": "d0b2ba68",
   "metadata": {},
   "outputs": [
    {
     "name": "stdout",
     "output_type": "stream",
     "text": [
      "10 .No feature should be dropped.\n",
      "we can observe that all the features are weakly correlated\n",
      "\n",
      "Glucose has the maximum positive linear correlation with Outcome, which is logical.\n",
      "BloodPressure has the lowest positive linear correlation with Outcome.\n",
      "No feature has a negative linear correlation with Outcome.\n"
     ]
    },
    {
     "data": {
      "image/png": "[encoded data removed]",
      "text/plain": [
       "<Figure size 1200x600 with 2 Axes>"
      ]
     },
     "metadata": {},
     "output_type": "display_data"
    }
   ],
   "source": [
    "# TODO: 10 Run this cell to display correlation matrix heat map\n",
    "# Would you consider dropping any feature based on their correlation? \n",
    "# Type your answers here: _______________\n",
    "print('10 .No feature should be dropped.\\nwe can observe that all the features are weakly correlated\\n\\nGlucose has the maximum positive linear correlation with Outcome, which is logical.\\nBloodPressure has the lowest positive linear correlation with Outcome.\\nNo feature has a negative linear correlation with Outcome.')\n",
    "plt.figure(figsize=(12,6))\n",
    "sns.heatmap(df.corr(),cmap='plasma',fmt='.2g',annot=True,mask=np.triu(df.corr(),+1))\n",
    "plt.show()"
   ]
  },
  {
   "cell_type": "code",
   "execution_count": 497,
   "id": "1c113cab",
   "metadata": {},
   "outputs": [
    {
     "name": "stdout",
     "output_type": "stream",
     "text": [
      " 1. Calculate the IQR for the feature/column you want to check for outliers. The IQR is the range between the 25th percentile (Q1) and the 75th percentile (Q3) of the data.\n",
      "2. Insulin and DPF\n"
     ]
    },
    {
     "data": {
      "image/png": "[encoded data removed]",
      "text/plain": [
       "<Figure size 2500x1000 with 9 Axes>"
      ]
     },
     "metadata": {},
     "output_type": "display_data"
    }
   ],
   "source": [
    "# TODO: 11 Run this cell to see box plots.\n",
    "# Visually examine the box plot and answer this question\n",
    "# How do you identify the 1.5 IQR boundary? \n",
    "# Which two features have most outliers beyond 1.5 IQR?\n",
    "# (Increase the figure size if you want to see larger image)\n",
    "# Put your answer for both questions here\n",
    "print(' 1. Calculate the IQR for the feature/column you want to check for outliers. The IQR is the range between the 25th percentile (Q1) and the 75th percentile (Q3) of the data.')\n",
    "print('2. Insulin and DPF')\n",
    "\n",
    "df.plot(kind=\"box\",subplots=True,figsize=(25,10),title=\"Data with Outliers\");"
   ]
  },
  {
   "cell_type": "code",
   "execution_count": 498,
   "id": "77808594",
   "metadata": {},
   "outputs": [],
   "source": [
    "# TODO: 12 Did you see any nulls in the dataset? \n",
    "# Ans: Yes"
   ]
  },
  {
   "cell_type": "code",
   "execution_count": 499,
   "id": "e0ca358f",
   "metadata": {},
   "outputs": [
    {
     "name": "stdout",
     "output_type": "stream",
     "text": [
      "Count of zeros in Column Pregnancies : 112, percentage 0s: 15.05%\n",
      "Count of zeros in Column Glucose : 5, percentage 0s: 0.67%\n",
      "Count of zeros in Column BloodPressure : 34, percentage 0s: 4.57%\n",
      "Count of zeros in Column SkinThickness : 215, percentage 0s: 28.90%\n",
      "Count of zeros in Column Insulin : 359, percentage 0s: 48.25%\n",
      "Count of zeros in Column BMI : 10, percentage 0s: 1.34%\n",
      "Count of zeros in Column DiabetesPedigreeFunction : 0, percentage 0s: 0.00%\n",
      "Count of zeros in Column Age : 0, percentage 0s: 0.00%\n",
      "Count of zeros in Column Outcome : 491, percentage 0s: 65.99%\n"
     ]
    }
   ],
   "source": [
    "# But look at how many features have zeros in them\n",
    "# Display zeroes in each column as percentage\n",
    "for col in df.columns:\n",
    "    count = (df[col] == 0).sum()\n",
    "    percentage = (count * 100)/df.shape[0]\n",
    "    print(f'Count of zeros in Column {col} : {count}, percentage 0s: {percentage:.2f}%')"
   ]
  },
  {
   "cell_type": "markdown",
   "id": "35d62ad2",
   "metadata": {},
   "source": [
    "1. After executing the above cell, you found many cells contain 0.\n",
    "2. Some cells should never contain 0. For e.g. Glucose\n",
    "3. Identify the cells that should can contain 0 and replace those 0 with Nan"
   ]
  },
  {
   "cell_type": "markdown",
   "id": "5577c13a",
   "metadata": {},
   "source": [
    "columns \"Glucose,\" \"BloodPressure,\" \"BMI,\" \"SkinThickness,\" and \"Insulin \" are the ones that should never contain 0"
   ]
  },
  {
   "cell_type": "code",
   "execution_count": 500,
   "id": "cd3ab3f5",
   "metadata": {},
   "outputs": [],
   "source": [
    "# TODO: 13 Replace 0 with Nan for features that should never contain 0\n",
    "# Choose 5 columns you want to replace 0 with Nan\n",
    "\n",
    "df[['Glucose', 'BloodPressure', 'BMI', 'SkinThickness', 'Insulin']] = \\\n",
    "    df[['Glucose', 'BloodPressure', 'BMI', 'SkinThickness', 'Insulin']].replace(0, np.NaN)"
   ]
  },
  {
   "cell_type": "code",
   "execution_count": 501,
   "id": "32ce77f7",
   "metadata": {},
   "outputs": [
    {
     "data": {
      "text/plain": [
       "Pregnancies                   0\n",
       "Glucose                       5\n",
       "BloodPressure                34\n",
       "SkinThickness               215\n",
       "Insulin                     359\n",
       "BMI                          10\n",
       "DiabetesPedigreeFunction      0\n",
       "Age                           0\n",
       "Outcome                       0\n",
       "dtype: int64"
      ]
     },
     "execution_count": 501,
     "metadata": {},
     "output_type": "execute_result"
    }
   ],
   "source": [
    "# TODO: 14  Now do null check again to ensure the right featues have Nans. Otherwise go back and fix\n",
    "\n",
    "df.isna().sum()"
   ]
  },
  {
   "cell_type": "code",
   "execution_count": 502,
   "id": "109f7af9",
   "metadata": {},
   "outputs": [
    {
     "data": {
      "text/plain": [
       "pandas.core.series.Series"
      ]
     },
     "execution_count": 502,
     "metadata": {},
     "output_type": "execute_result"
    }
   ],
   "source": [
    "y = df.pop(\"Outcome\") #Setup target variable\n",
    "type(y)"
   ]
  },
  {
   "cell_type": "code",
   "execution_count": 503,
   "id": "114e7d5a",
   "metadata": {},
   "outputs": [],
   "source": [
    "# TODO: 15\n",
    "\n",
    "# Answer these questions with short one liner right in this cell as a comment\n",
    "#\n",
    "# 1. What does the pop operation do?\n",
    "#\n",
    "#\n",
    "# 2. Is pop() idempotent or non-idempotent operation?\n",
    "#\n",
    "#\n",
    "# 3. How do you check if an operation is idempotent/non-idempotent?\n",
    "#\n",
    "#"
   ]
  },
  {
   "cell_type": "markdown",
   "id": "830b9be7",
   "metadata": {},
   "source": [
    "1. pop() operation removes and returns the last element from a list or the specified key's value from a dictionary.\n",
    "\n",
    "2. pop() operation is non-idempotent because it modifies the original data structure (list or dictionary) by removing an element.\n",
    "\n",
    "3. An operation is idempotent if applying it multiple times has the same effect as applying it once. An operation is non-idempotent if applying it multiple times can have a different effect than applying it once.\n"
   ]
  },
  {
   "cell_type": "code",
   "execution_count": 504,
   "id": "2e8eddba",
   "metadata": {},
   "outputs": [
    {
     "data": {
      "text/html": [
       "<div>\n",
       "<style scoped>\n",
       "    .dataframe tbody tr th:only-of-type {\n",
       "        vertical-align: middle;\n",
       "    }\n",
       "\n",
       "    .dataframe tbody tr th {\n",
       "        vertical-align: top;\n",
       "    }\n",
       "\n",
       "    .dataframe thead th {\n",
       "        text-align: right;\n",
       "    }\n",
       "</style>\n",
       "<table border=\"1\" class=\"dataframe\">\n",
       "  <thead>\n",
       "    <tr style=\"text-align: right;\">\n",
       "      <th></th>\n",
       "      <th>Pregnancies</th>\n",
       "      <th>Glucose</th>\n",
       "      <th>BloodPressure</th>\n",
       "      <th>SkinThickness</th>\n",
       "      <th>Insulin</th>\n",
       "      <th>BMI</th>\n",
       "      <th>DiabetesPedigreeFunction</th>\n",
       "      <th>Age</th>\n",
       "    </tr>\n",
       "  </thead>\n",
       "  <tbody>\n",
       "    <tr>\n",
       "      <th>0</th>\n",
       "      <td>2</td>\n",
       "      <td>138.0</td>\n",
       "      <td>62.0</td>\n",
       "      <td>35.0</td>\n",
       "      <td>NaN</td>\n",
       "      <td>33.6</td>\n",
       "      <td>0.127</td>\n",
       "      <td>47</td>\n",
       "    </tr>\n",
       "    <tr>\n",
       "      <th>1</th>\n",
       "      <td>0</td>\n",
       "      <td>84.0</td>\n",
       "      <td>82.0</td>\n",
       "      <td>31.0</td>\n",
       "      <td>125.0</td>\n",
       "      <td>38.2</td>\n",
       "      <td>0.233</td>\n",
       "      <td>23</td>\n",
       "    </tr>\n",
       "    <tr>\n",
       "      <th>2</th>\n",
       "      <td>0</td>\n",
       "      <td>145.0</td>\n",
       "      <td>NaN</td>\n",
       "      <td>NaN</td>\n",
       "      <td>NaN</td>\n",
       "      <td>44.2</td>\n",
       "      <td>0.630</td>\n",
       "      <td>31</td>\n",
       "    </tr>\n",
       "    <tr>\n",
       "      <th>3</th>\n",
       "      <td>0</td>\n",
       "      <td>135.0</td>\n",
       "      <td>68.0</td>\n",
       "      <td>42.0</td>\n",
       "      <td>250.0</td>\n",
       "      <td>42.3</td>\n",
       "      <td>0.365</td>\n",
       "      <td>24</td>\n",
       "    </tr>\n",
       "    <tr>\n",
       "      <th>4</th>\n",
       "      <td>1</td>\n",
       "      <td>139.0</td>\n",
       "      <td>62.0</td>\n",
       "      <td>41.0</td>\n",
       "      <td>480.0</td>\n",
       "      <td>40.7</td>\n",
       "      <td>0.536</td>\n",
       "      <td>21</td>\n",
       "    </tr>\n",
       "    <tr>\n",
       "      <th>...</th>\n",
       "      <td>...</td>\n",
       "      <td>...</td>\n",
       "      <td>...</td>\n",
       "      <td>...</td>\n",
       "      <td>...</td>\n",
       "      <td>...</td>\n",
       "      <td>...</td>\n",
       "      <td>...</td>\n",
       "    </tr>\n",
       "    <tr>\n",
       "      <th>1564</th>\n",
       "      <td>1</td>\n",
       "      <td>100.0</td>\n",
       "      <td>62.0</td>\n",
       "      <td>NaN</td>\n",
       "      <td>NaN</td>\n",
       "      <td>64.4</td>\n",
       "      <td>0.152</td>\n",
       "      <td>36</td>\n",
       "    </tr>\n",
       "    <tr>\n",
       "      <th>1565</th>\n",
       "      <td>0</td>\n",
       "      <td>163.0</td>\n",
       "      <td>40.0</td>\n",
       "      <td>23.0</td>\n",
       "      <td>64.0</td>\n",
       "      <td>40.7</td>\n",
       "      <td>0.322</td>\n",
       "      <td>33</td>\n",
       "    </tr>\n",
       "    <tr>\n",
       "      <th>1566</th>\n",
       "      <td>6</td>\n",
       "      <td>139.0</td>\n",
       "      <td>84.0</td>\n",
       "      <td>37.0</td>\n",
       "      <td>NaN</td>\n",
       "      <td>50.7</td>\n",
       "      <td>0.320</td>\n",
       "      <td>50</td>\n",
       "    </tr>\n",
       "    <tr>\n",
       "      <th>1567</th>\n",
       "      <td>2</td>\n",
       "      <td>167.0</td>\n",
       "      <td>44.0</td>\n",
       "      <td>30.0</td>\n",
       "      <td>140.0</td>\n",
       "      <td>52.7</td>\n",
       "      <td>0.452</td>\n",
       "      <td>28</td>\n",
       "    </tr>\n",
       "    <tr>\n",
       "      <th>1568</th>\n",
       "      <td>3</td>\n",
       "      <td>162.0</td>\n",
       "      <td>NaN</td>\n",
       "      <td>110.0</td>\n",
       "      <td>215.0</td>\n",
       "      <td>48.7</td>\n",
       "      <td>0.520</td>\n",
       "      <td>24</td>\n",
       "    </tr>\n",
       "  </tbody>\n",
       "</table>\n",
       "<p>744 rows × 8 columns</p>\n",
       "</div>"
      ],
      "text/plain": [
       "      Pregnancies  Glucose  BloodPressure  SkinThickness  Insulin   BMI  \\\n",
       "0               2    138.0           62.0           35.0      NaN  33.6   \n",
       "1               0     84.0           82.0           31.0    125.0  38.2   \n",
       "2               0    145.0            NaN            NaN      NaN  44.2   \n",
       "3               0    135.0           68.0           42.0    250.0  42.3   \n",
       "4               1    139.0           62.0           41.0    480.0  40.7   \n",
       "...           ...      ...            ...            ...      ...   ...   \n",
       "1564            1    100.0           62.0            NaN      NaN  64.4   \n",
       "1565            0    163.0           40.0           23.0     64.0  40.7   \n",
       "1566            6    139.0           84.0           37.0      NaN  50.7   \n",
       "1567            2    167.0           44.0           30.0    140.0  52.7   \n",
       "1568            3    162.0            NaN          110.0    215.0  48.7   \n",
       "\n",
       "      DiabetesPedigreeFunction  Age  \n",
       "0                        0.127   47  \n",
       "1                        0.233   23  \n",
       "2                        0.630   31  \n",
       "3                        0.365   24  \n",
       "4                        0.536   21  \n",
       "...                        ...  ...  \n",
       "1564                     0.152   36  \n",
       "1565                     0.322   33  \n",
       "1566                     0.320   50  \n",
       "1567                     0.452   28  \n",
       "1568                     0.520   24  \n",
       "\n",
       "[744 rows x 8 columns]"
      ]
     },
     "execution_count": 504,
     "metadata": {},
     "output_type": "execute_result"
    }
   ],
   "source": [
    "X = df # Setup independent variables\n",
    "X"
   ]
  },
  {
   "cell_type": "code",
   "execution_count": 505,
   "id": "fb9034d4",
   "metadata": {},
   "outputs": [],
   "source": [
    "from sklearn.model_selection import train_test_split\n",
    "\n",
    "# Fill this out\n",
    "X_train, X_test, y_train, y_test = train_test_split(X, y, test_size=0.25, random_state=0)"
   ]
  },
  {
   "cell_type": "code",
   "execution_count": 506,
   "id": "e3ac3ba0",
   "metadata": {},
   "outputs": [],
   "source": [
    "# TODO: 16 Answer these questions\n",
    "# 1. Did you use stratify?\n",
    "#\n",
    "#\n",
    "# 2. If yes, on which column and why? If not, why not?\n",
    "#\n",
    "#"
   ]
  },
  {
   "cell_type": "markdown",
   "id": "c5ddc1bc",
   "metadata": {},
   "source": [
    "1. No, Stratify provides a balanced separation of classes in the y variable when separating\n",
    "if we were using it, it would be like this\n",
    "\n",
    "X_train, X_test, y_train, y_test = train_test_split(X, y, test_size=0.25, random_state=0, stratify=y)\n",
    "\n",
    "2. No because, Dataset is divided into train and test sets. We use stratify parameter of train_test_split function to get the same class distribution across train and test sets.\n",
    "\n"
   ]
  },
  {
   "cell_type": "code",
   "execution_count": 507,
   "id": "39b22b5e",
   "metadata": {},
   "outputs": [
    {
     "data": {
      "text/html": [
       "<div>\n",
       "<style scoped>\n",
       "    .dataframe tbody tr th:only-of-type {\n",
       "        vertical-align: middle;\n",
       "    }\n",
       "\n",
       "    .dataframe tbody tr th {\n",
       "        vertical-align: top;\n",
       "    }\n",
       "\n",
       "    .dataframe thead th {\n",
       "        text-align: right;\n",
       "    }\n",
       "</style>\n",
       "<table border=\"1\" class=\"dataframe\">\n",
       "  <thead>\n",
       "    <tr style=\"text-align: right;\">\n",
       "      <th></th>\n",
       "      <th>Pregnancies</th>\n",
       "      <th>Glucose</th>\n",
       "      <th>BloodPressure</th>\n",
       "      <th>SkinThickness</th>\n",
       "      <th>Insulin</th>\n",
       "      <th>BMI</th>\n",
       "      <th>DiabetesPedigreeFunction</th>\n",
       "      <th>Age</th>\n",
       "    </tr>\n",
       "  </thead>\n",
       "  <tbody>\n",
       "    <tr>\n",
       "      <th>691</th>\n",
       "      <td>13</td>\n",
       "      <td>158.0</td>\n",
       "      <td>114.0</td>\n",
       "      <td>NaN</td>\n",
       "      <td>NaN</td>\n",
       "      <td>42.3</td>\n",
       "      <td>0.257</td>\n",
       "      <td>44</td>\n",
       "    </tr>\n",
       "    <tr>\n",
       "      <th>294</th>\n",
       "      <td>0</td>\n",
       "      <td>161.0</td>\n",
       "      <td>50.0</td>\n",
       "      <td>NaN</td>\n",
       "      <td>NaN</td>\n",
       "      <td>21.9</td>\n",
       "      <td>0.254</td>\n",
       "      <td>65</td>\n",
       "    </tr>\n",
       "    <tr>\n",
       "      <th>77</th>\n",
       "      <td>5</td>\n",
       "      <td>95.0</td>\n",
       "      <td>72.0</td>\n",
       "      <td>33.0</td>\n",
       "      <td>NaN</td>\n",
       "      <td>37.7</td>\n",
       "      <td>0.370</td>\n",
       "      <td>27</td>\n",
       "    </tr>\n",
       "    <tr>\n",
       "      <th>352</th>\n",
       "      <td>3</td>\n",
       "      <td>61.0</td>\n",
       "      <td>82.0</td>\n",
       "      <td>28.0</td>\n",
       "      <td>NaN</td>\n",
       "      <td>34.4</td>\n",
       "      <td>0.243</td>\n",
       "      <td>46</td>\n",
       "    </tr>\n",
       "    <tr>\n",
       "      <th>235</th>\n",
       "      <td>4</td>\n",
       "      <td>171.0</td>\n",
       "      <td>72.0</td>\n",
       "      <td>NaN</td>\n",
       "      <td>NaN</td>\n",
       "      <td>43.6</td>\n",
       "      <td>0.479</td>\n",
       "      <td>26</td>\n",
       "    </tr>\n",
       "    <tr>\n",
       "      <th>...</th>\n",
       "      <td>...</td>\n",
       "      <td>...</td>\n",
       "      <td>...</td>\n",
       "      <td>...</td>\n",
       "      <td>...</td>\n",
       "      <td>...</td>\n",
       "      <td>...</td>\n",
       "      <td>...</td>\n",
       "    </tr>\n",
       "    <tr>\n",
       "      <th>756</th>\n",
       "      <td>7</td>\n",
       "      <td>137.0</td>\n",
       "      <td>90.0</td>\n",
       "      <td>41.0</td>\n",
       "      <td>NaN</td>\n",
       "      <td>32.0</td>\n",
       "      <td>0.391</td>\n",
       "      <td>39</td>\n",
       "    </tr>\n",
       "    <tr>\n",
       "      <th>9</th>\n",
       "      <td>2</td>\n",
       "      <td>89.0</td>\n",
       "      <td>90.0</td>\n",
       "      <td>30.0</td>\n",
       "      <td>NaN</td>\n",
       "      <td>33.5</td>\n",
       "      <td>0.292</td>\n",
       "      <td>42</td>\n",
       "    </tr>\n",
       "    <tr>\n",
       "      <th>192</th>\n",
       "      <td>7</td>\n",
       "      <td>159.0</td>\n",
       "      <td>66.0</td>\n",
       "      <td>NaN</td>\n",
       "      <td>NaN</td>\n",
       "      <td>30.4</td>\n",
       "      <td>0.383</td>\n",
       "      <td>36</td>\n",
       "    </tr>\n",
       "    <tr>\n",
       "      <th>592</th>\n",
       "      <td>3</td>\n",
       "      <td>132.0</td>\n",
       "      <td>80.0</td>\n",
       "      <td>NaN</td>\n",
       "      <td>NaN</td>\n",
       "      <td>34.4</td>\n",
       "      <td>0.402</td>\n",
       "      <td>44</td>\n",
       "    </tr>\n",
       "    <tr>\n",
       "      <th>717</th>\n",
       "      <td>10</td>\n",
       "      <td>94.0</td>\n",
       "      <td>72.0</td>\n",
       "      <td>18.0</td>\n",
       "      <td>NaN</td>\n",
       "      <td>23.1</td>\n",
       "      <td>0.595</td>\n",
       "      <td>56</td>\n",
       "    </tr>\n",
       "  </tbody>\n",
       "</table>\n",
       "<p>269 rows × 8 columns</p>\n",
       "</div>"
      ],
      "text/plain": [
       "     Pregnancies  Glucose  BloodPressure  SkinThickness  Insulin   BMI  \\\n",
       "691           13    158.0          114.0            NaN      NaN  42.3   \n",
       "294            0    161.0           50.0            NaN      NaN  21.9   \n",
       "77             5     95.0           72.0           33.0      NaN  37.7   \n",
       "352            3     61.0           82.0           28.0      NaN  34.4   \n",
       "235            4    171.0           72.0            NaN      NaN  43.6   \n",
       "..           ...      ...            ...            ...      ...   ...   \n",
       "756            7    137.0           90.0           41.0      NaN  32.0   \n",
       "9              2     89.0           90.0           30.0      NaN  33.5   \n",
       "192            7    159.0           66.0            NaN      NaN  30.4   \n",
       "592            3    132.0           80.0            NaN      NaN  34.4   \n",
       "717           10     94.0           72.0           18.0      NaN  23.1   \n",
       "\n",
       "     DiabetesPedigreeFunction  Age  \n",
       "691                     0.257   44  \n",
       "294                     0.254   65  \n",
       "77                      0.370   27  \n",
       "352                     0.243   46  \n",
       "235                     0.479   26  \n",
       "..                        ...  ...  \n",
       "756                     0.391   39  \n",
       "9                       0.292   42  \n",
       "192                     0.383   36  \n",
       "592                     0.402   44  \n",
       "717                     0.595   56  \n",
       "\n",
       "[269 rows x 8 columns]"
      ]
     },
     "execution_count": 507,
     "metadata": {},
     "output_type": "execute_result"
    }
   ],
   "source": [
    "# TODO: 17 Display all records that have at least one Nan column value\n",
    "# If you cannot get this, you can leave this cell execution and proceed\n",
    "# Subsequent cells do not depend on this. If you cannot solve this, you can proceed to next cell\n",
    "\n",
    "X_train.loc[X_train.isna().any(axis=1), :]"
   ]
  },
  {
   "cell_type": "markdown",
   "id": "f47de1f8",
   "metadata": {},
   "source": [
    "##### Deciding on Imputation\n",
    "1. Now you should decide which imputation to use - whether SimpleImputer or IterativeImputer\n",
    "2. Instead of following MCAR/MAR path to decide on SimpleImputer or IterativeImputer, you will take a simple alternative\n",
    "3. Use IterativeImputer if a large number of rows have Nan for a column\n",
    "4. Use SimpleImputer if the number of Nans is very small "
   ]
  },
  {
   "cell_type": "code",
   "execution_count": 508,
   "id": "130c6f9c",
   "metadata": {},
   "outputs": [
    {
     "name": "stdout",
     "output_type": "stream",
     "text": [
      "X_train.shape=(558, 8)\n"
     ]
    },
    {
     "data": {
      "text/plain": [
       "Pregnancies                   0\n",
       "Glucose                       4\n",
       "BloodPressure                23\n",
       "SkinThickness               151\n",
       "Insulin                     267\n",
       "BMI                           7\n",
       "DiabetesPedigreeFunction      0\n",
       "Age                           0\n",
       "dtype: int64"
      ]
     },
     "execution_count": 508,
     "metadata": {},
     "output_type": "execute_result"
    }
   ],
   "source": [
    "print(f\"X_train.shape={X_train.shape}\")\n",
    "X_train.isna().sum()"
   ]
  },
  {
   "cell_type": "code",
   "execution_count": 509,
   "id": "ca0ec6b8",
   "metadata": {},
   "outputs": [
    {
     "data": {
      "text/html": [
       "<div>\n",
       "<style scoped>\n",
       "    .dataframe tbody tr th:only-of-type {\n",
       "        vertical-align: middle;\n",
       "    }\n",
       "\n",
       "    .dataframe tbody tr th {\n",
       "        vertical-align: top;\n",
       "    }\n",
       "\n",
       "    .dataframe thead th {\n",
       "        text-align: right;\n",
       "    }\n",
       "</style>\n",
       "<table border=\"1\" class=\"dataframe\">\n",
       "  <thead>\n",
       "    <tr style=\"text-align: right;\">\n",
       "      <th></th>\n",
       "      <th>Glucose</th>\n",
       "      <th>BloodPressure</th>\n",
       "      <th>SkinThickness</th>\n",
       "      <th>Insulin</th>\n",
       "      <th>BMI</th>\n",
       "    </tr>\n",
       "  </thead>\n",
       "  <tbody>\n",
       "    <tr>\n",
       "      <th>691</th>\n",
       "      <td>158.0</td>\n",
       "      <td>114.0</td>\n",
       "      <td>NaN</td>\n",
       "      <td>NaN</td>\n",
       "      <td>42.3</td>\n",
       "    </tr>\n",
       "    <tr>\n",
       "      <th>599</th>\n",
       "      <td>109.0</td>\n",
       "      <td>38.0</td>\n",
       "      <td>18.0</td>\n",
       "      <td>120.0</td>\n",
       "      <td>23.1</td>\n",
       "    </tr>\n",
       "    <tr>\n",
       "      <th>294</th>\n",
       "      <td>161.0</td>\n",
       "      <td>50.0</td>\n",
       "      <td>NaN</td>\n",
       "      <td>NaN</td>\n",
       "      <td>21.9</td>\n",
       "    </tr>\n",
       "    <tr>\n",
       "      <th>77</th>\n",
       "      <td>95.0</td>\n",
       "      <td>72.0</td>\n",
       "      <td>33.0</td>\n",
       "      <td>NaN</td>\n",
       "      <td>37.7</td>\n",
       "    </tr>\n",
       "    <tr>\n",
       "      <th>352</th>\n",
       "      <td>61.0</td>\n",
       "      <td>82.0</td>\n",
       "      <td>28.0</td>\n",
       "      <td>NaN</td>\n",
       "      <td>34.4</td>\n",
       "    </tr>\n",
       "    <tr>\n",
       "      <th>...</th>\n",
       "      <td>...</td>\n",
       "      <td>...</td>\n",
       "      <td>...</td>\n",
       "      <td>...</td>\n",
       "      <td>...</td>\n",
       "    </tr>\n",
       "    <tr>\n",
       "      <th>740</th>\n",
       "      <td>120.0</td>\n",
       "      <td>80.0</td>\n",
       "      <td>37.0</td>\n",
       "      <td>150.0</td>\n",
       "      <td>42.3</td>\n",
       "    </tr>\n",
       "    <tr>\n",
       "      <th>192</th>\n",
       "      <td>159.0</td>\n",
       "      <td>66.0</td>\n",
       "      <td>NaN</td>\n",
       "      <td>NaN</td>\n",
       "      <td>30.4</td>\n",
       "    </tr>\n",
       "    <tr>\n",
       "      <th>662</th>\n",
       "      <td>167.0</td>\n",
       "      <td>106.0</td>\n",
       "      <td>46.0</td>\n",
       "      <td>231.0</td>\n",
       "      <td>37.6</td>\n",
       "    </tr>\n",
       "    <tr>\n",
       "      <th>592</th>\n",
       "      <td>132.0</td>\n",
       "      <td>80.0</td>\n",
       "      <td>NaN</td>\n",
       "      <td>NaN</td>\n",
       "      <td>34.4</td>\n",
       "    </tr>\n",
       "    <tr>\n",
       "      <th>717</th>\n",
       "      <td>94.0</td>\n",
       "      <td>72.0</td>\n",
       "      <td>18.0</td>\n",
       "      <td>NaN</td>\n",
       "      <td>23.1</td>\n",
       "    </tr>\n",
       "  </tbody>\n",
       "</table>\n",
       "<p>558 rows × 5 columns</p>\n",
       "</div>"
      ],
      "text/plain": [
       "     Glucose  BloodPressure  SkinThickness  Insulin   BMI\n",
       "691    158.0          114.0            NaN      NaN  42.3\n",
       "599    109.0           38.0           18.0    120.0  23.1\n",
       "294    161.0           50.0            NaN      NaN  21.9\n",
       "77      95.0           72.0           33.0      NaN  37.7\n",
       "352     61.0           82.0           28.0      NaN  34.4\n",
       "..       ...            ...            ...      ...   ...\n",
       "740    120.0           80.0           37.0    150.0  42.3\n",
       "192    159.0           66.0            NaN      NaN  30.4\n",
       "662    167.0          106.0           46.0    231.0  37.6\n",
       "592    132.0           80.0            NaN      NaN  34.4\n",
       "717     94.0           72.0           18.0      NaN  23.1\n",
       "\n",
       "[558 rows x 5 columns]"
      ]
     },
     "execution_count": 509,
     "metadata": {},
     "output_type": "execute_result"
    }
   ],
   "source": [
    "# TODO 18 Based on the results of previous cell which columns will you apply SimpleImputer ?\n",
    "# Select only those columns here \n",
    "\n",
    "X_train_mean_impute = X_train.loc[:, X_train.isna().any()]\n",
    "X_train_mean_impute"
   ]
  },
  {
   "cell_type": "code",
   "execution_count": 510,
   "id": "28e10d44",
   "metadata": {},
   "outputs": [
    {
     "data": {
      "text/plain": [
       "array([[158. , 114. ,  42.3],\n",
       "       [109. ,  38. ,  23.1],\n",
       "       [161. ,  50. ,  21.9],\n",
       "       [ 95. ,  72. ,  37.7],\n",
       "       [ 61. ,  82. ,  34.4]])"
      ]
     },
     "execution_count": 510,
     "metadata": {},
     "output_type": "execute_result"
    }
   ],
   "source": [
    "# TODO: 19 Apply SimpleImputer to appropriate columns only\n",
    "from sklearn.impute import SimpleImputer\n",
    "\n",
    "columns_to_impute = ['Glucose', 'BloodPressure', 'BMI']\n",
    "\n",
    "mean_imputer = SimpleImputer(strategy='mean') #using mean imputation\n",
    "\n",
    "#Fill code above to create SimpleImputer \n",
    "\n",
    "X_train_mean_imputed = mean_imputer.fit_transform(X_train[columns_to_impute])\n",
    "\n",
    "# Display first few\n",
    "X_train_mean_imputed[0:5,:]"
   ]
  },
  {
   "cell_type": "code",
   "execution_count": 511,
   "id": "56fededd",
   "metadata": {},
   "outputs": [
    {
     "name": "stdout",
     "output_type": "stream",
     "text": [
      "The 2 columns are insulin and DPF.\n",
      "Insulin has missing values\n",
      "DiabetesPedigreeFunction column may not be necessary as this feature is already complete (contains no missing values).\n"
     ]
    },
    {
     "data": {
      "text/html": [
       "<div>\n",
       "<style scoped>\n",
       "    .dataframe tbody tr th:only-of-type {\n",
       "        vertical-align: middle;\n",
       "    }\n",
       "\n",
       "    .dataframe tbody tr th {\n",
       "        vertical-align: top;\n",
       "    }\n",
       "\n",
       "    .dataframe thead th {\n",
       "        text-align: right;\n",
       "    }\n",
       "</style>\n",
       "<table border=\"1\" class=\"dataframe\">\n",
       "  <thead>\n",
       "    <tr style=\"text-align: right;\">\n",
       "      <th></th>\n",
       "      <th>Insulin</th>\n",
       "      <th>DiabetesPedigreeFunction</th>\n",
       "    </tr>\n",
       "  </thead>\n",
       "  <tbody>\n",
       "    <tr>\n",
       "      <th>691</th>\n",
       "      <td>NaN</td>\n",
       "      <td>0.257</td>\n",
       "    </tr>\n",
       "    <tr>\n",
       "      <th>599</th>\n",
       "      <td>120.0</td>\n",
       "      <td>0.407</td>\n",
       "    </tr>\n",
       "    <tr>\n",
       "      <th>294</th>\n",
       "      <td>NaN</td>\n",
       "      <td>0.254</td>\n",
       "    </tr>\n",
       "    <tr>\n",
       "      <th>77</th>\n",
       "      <td>NaN</td>\n",
       "      <td>0.370</td>\n",
       "    </tr>\n",
       "    <tr>\n",
       "      <th>352</th>\n",
       "      <td>NaN</td>\n",
       "      <td>0.243</td>\n",
       "    </tr>\n",
       "    <tr>\n",
       "      <th>...</th>\n",
       "      <td>...</td>\n",
       "      <td>...</td>\n",
       "    </tr>\n",
       "    <tr>\n",
       "      <th>740</th>\n",
       "      <td>150.0</td>\n",
       "      <td>0.785</td>\n",
       "    </tr>\n",
       "    <tr>\n",
       "      <th>192</th>\n",
       "      <td>NaN</td>\n",
       "      <td>0.383</td>\n",
       "    </tr>\n",
       "    <tr>\n",
       "      <th>662</th>\n",
       "      <td>231.0</td>\n",
       "      <td>0.165</td>\n",
       "    </tr>\n",
       "    <tr>\n",
       "      <th>592</th>\n",
       "      <td>NaN</td>\n",
       "      <td>0.402</td>\n",
       "    </tr>\n",
       "    <tr>\n",
       "      <th>717</th>\n",
       "      <td>NaN</td>\n",
       "      <td>0.595</td>\n",
       "    </tr>\n",
       "  </tbody>\n",
       "</table>\n",
       "<p>558 rows × 2 columns</p>\n",
       "</div>"
      ],
      "text/plain": [
       "     Insulin  DiabetesPedigreeFunction\n",
       "691      NaN                     0.257\n",
       "599    120.0                     0.407\n",
       "294      NaN                     0.254\n",
       "77       NaN                     0.370\n",
       "352      NaN                     0.243\n",
       "..       ...                       ...\n",
       "740    150.0                     0.785\n",
       "192      NaN                     0.383\n",
       "662    231.0                     0.165\n",
       "592      NaN                     0.402\n",
       "717      NaN                     0.595\n",
       "\n",
       "[558 rows x 2 columns]"
      ]
     },
     "execution_count": 511,
     "metadata": {},
     "output_type": "execute_result"
    }
   ],
   "source": [
    "# TODO: 20 Which columns will you apply IterativeImputer ?\n",
    "# Name those columns and provide 2 line short reason\n",
    "# _____________________________\n",
    "print('The 2 columns are insulin and DPF.\\nInsulin has missing values\\nDiabetesPedigreeFunction column may not be necessary as this feature is already complete (contains no missing values).')\n",
    "\n",
    "X_train.loc[:,['Insulin','DiabetesPedigreeFunction']]"
   ]
  },
  {
   "cell_type": "markdown",
   "id": "995fb3c8",
   "metadata": {},
   "source": [
    "Iterative Imputer uses all non null features of the dataset to impute. To apply Iteratative Imputer on the two columns identified above, you should have all other features combined into the dataframe or numpy nmatrix first. \n",
    "\n",
    "You should do the following for that\n",
    "1. Remove the columns of the dataframe that were subjected to mean imputation\n",
    "2. Convert the remaining dataframe into numpy matrix \n",
    "3. Combine the above numpy matrix with mean imputed columns earlier. The \"combining\" two matrices is achieved by concatenating those two numpy matrices - by using an appropriate numpy stacking function\n",
    "4. The stacked numpy matrix is then used for iterative imputation"
   ]
  },
  {
   "cell_type": "code",
   "execution_count": 512,
   "id": "185a534d",
   "metadata": {},
   "outputs": [
    {
     "data": {
      "text/plain": [
       "array([[1.30e+01,      nan,      nan, 2.57e-01, 4.40e+01],\n",
       "       [1.00e+00, 1.80e+01, 1.20e+02, 4.07e-01, 2.60e+01],\n",
       "       [0.00e+00,      nan,      nan, 2.54e-01, 6.50e+01],\n",
       "       ...,\n",
       "       [8.00e+00, 4.60e+01, 2.31e+02, 1.65e-01, 4.30e+01],\n",
       "       [3.00e+00,      nan,      nan, 4.02e-01, 4.40e+01],\n",
       "       [1.00e+01, 1.80e+01,      nan, 5.95e-01, 5.60e+01]])"
      ]
     },
     "execution_count": 512,
     "metadata": {},
     "output_type": "execute_result"
    }
   ],
   "source": [
    "# TODO: 21 Remove the columns of X_train dataframe that were already subjected to mean imputation\n",
    "# Hold on to the rest as a Numpy matrix\n",
    "X_train_set_aside = X_train.drop(['Glucose', 'BloodPressure', 'BMI'], axis=1).to_numpy()\n",
    "X_train_set_aside"
   ]
  },
  {
   "cell_type": "code",
   "execution_count": 513,
   "id": "f8e48dc7",
   "metadata": {},
   "outputs": [
    {
     "data": {
      "text/plain": [
       "array([[1.58e+02, 1.14e+02, 4.23e+01, ...,      nan, 2.57e-01, 4.40e+01],\n",
       "       [1.09e+02, 3.80e+01, 2.31e+01, ..., 1.20e+02, 4.07e-01, 2.60e+01],\n",
       "       [1.61e+02, 5.00e+01, 2.19e+01, ...,      nan, 2.54e-01, 6.50e+01],\n",
       "       ...,\n",
       "       [1.67e+02, 1.06e+02, 3.76e+01, ..., 2.31e+02, 1.65e-01, 4.30e+01],\n",
       "       [1.32e+02, 8.00e+01, 3.44e+01, ...,      nan, 4.02e-01, 4.40e+01],\n",
       "       [9.40e+01, 7.20e+01, 2.31e+01, ...,      nan, 5.95e-01, 5.60e+01]])"
      ]
     },
     "execution_count": 513,
     "metadata": {},
     "output_type": "execute_result"
    }
   ],
   "source": [
    "# TODO: 22 Concatenate the two numpy matrices by using an appropriate numpy stacking function\n",
    "# Identify which are those two numpy matrices first and use them\n",
    "\n",
    "X_train = np.hstack((X_train_mean_imputed, X_train_set_aside)) # this numpy matrix will be the new X_train from prediction\n",
    "X_train"
   ]
  },
  {
   "cell_type": "code",
   "execution_count": 514,
   "id": "18a4ae6f",
   "metadata": {},
   "outputs": [
    {
     "data": {
      "text/plain": [
       "array([[1.58000000e+02, 1.14000000e+02, 4.23000000e+01, ...,\n",
       "        2.37599549e+02, 2.57000000e-01, 4.40000000e+01],\n",
       "       [1.09000000e+02, 3.80000000e+01, 2.31000000e+01, ...,\n",
       "        1.20000000e+02, 4.07000000e-01, 2.60000000e+01],\n",
       "       [1.61000000e+02, 5.00000000e+01, 2.19000000e+01, ...,\n",
       "        2.26669815e+02, 2.54000000e-01, 6.50000000e+01],\n",
       "       ...,\n",
       "       [1.67000000e+02, 1.06000000e+02, 3.76000000e+01, ...,\n",
       "        2.31000000e+02, 1.65000000e-01, 4.30000000e+01],\n",
       "       [1.32000000e+02, 8.00000000e+01, 3.44000000e+01, ...,\n",
       "        1.76808163e+02, 4.02000000e-01, 4.40000000e+01],\n",
       "       [9.40000000e+01, 7.20000000e+01, 2.31000000e+01, ...,\n",
       "        8.56658773e+01, 5.95000000e-01, 5.60000000e+01]])"
      ]
     },
     "execution_count": 514,
     "metadata": {},
     "output_type": "execute_result"
    }
   ],
   "source": [
    "# TODO: 23 Perform Iterative Imputation on two columns with Nan data\n",
    "# At this point only two columns will have Nan - SkinThickness and Insulin\n",
    "# Those 2 will be imputed using all other columns \n",
    "# But to make life easy, this is equivalent to performing Iterative Imputation using all other columns\n",
    "\n",
    "# .......\n",
    "# Add IterativeImputer here and fit and transform appropriate columns\n",
    "\n",
    "\n",
    "# X_train_iter_imputed # this variable should hold your imputer values\n",
    "\n",
    "from sklearn.experimental import enable_iterative_imputer\n",
    "from sklearn.impute import IterativeImputer\n",
    "\n",
    "# Initialize the IterativeImputer\n",
    "iterative_imputer = IterativeImputer()\n",
    "\n",
    "# Fit and transform the imputer on the entire X_train\n",
    "X_train_iter_imputed = iterative_imputer.fit_transform(X_train)\n",
    "\n",
    "# Display the resulting matrix\n",
    "X_train_iter_imputed"
   ]
  },
  {
   "cell_type": "code",
   "execution_count": 515,
   "id": "83d54b3f",
   "metadata": {},
   "outputs": [
    {
     "data": {
      "text/plain": [
       "array([[ 1.18954035,  3.36441269,  1.31215916, ...,  0.85174053,\n",
       "        -0.63290132,  0.95454214],\n",
       "       [-0.42357097, -2.78819233, -1.37708204, ..., -0.35994306,\n",
       "        -0.17876717, -0.62389402],\n",
       "       [ 1.28830226, -1.81672838, -1.54515962, ...,  0.73912633,\n",
       "        -0.641984  ,  2.79605101],\n",
       "       ...,\n",
       "       [ 1.4858261 ,  2.71677005,  0.65385532, ...,  0.78374227,\n",
       "        -0.91143693,  0.86685124],\n",
       "       [ 0.33360373,  0.6119315 ,  0.20564845, ...,  0.22537822,\n",
       "        -0.19390497,  0.95454214],\n",
       "       [-0.91738055, -0.03571114, -1.37708204, ..., -0.71370372,\n",
       "         0.3904143 ,  2.00683292]])"
      ]
     },
     "execution_count": 515,
     "metadata": {},
     "output_type": "execute_result"
    }
   ],
   "source": [
    "# TODO: 24 Fill the question marks to do z transform\n",
    "\n",
    "from sklearn.preprocessing import StandardScaler\n",
    "\n",
    "\n",
    "scaler = StandardScaler()\n",
    "X_train_scaled = scaler.fit_transform(X_train_iter_imputed)\n",
    "X_train_scaled"
   ]
  },
  {
   "cell_type": "code",
   "execution_count": 516,
   "id": "35dafbf6",
   "metadata": {},
   "outputs": [
    {
     "data": {
      "text/html": [
       "<style>#sk-container-id-12 {color: black;background-color: white;}#sk-container-id-12 pre{padding: 0;}#sk-container-id-12 div.sk-toggleable {background-color: white;}#sk-container-id-12 label.sk-toggleable__label {cursor: pointer;display: block;width: 100%;margin-bottom: 0;padding: 0.3em;box-sizing: border-box;text-align: center;}#sk-container-id-12 label.sk-toggleable__label-arrow:before {content: \"▸\";float: left;margin-right: 0.25em;color: #696969;}#sk-container-id-12 label.sk-toggleable__label-arrow:hover:before {color: black;}#sk-container-id-12 div.sk-estimator:hover label.sk-toggleable__label-arrow:before {color: black;}#sk-container-id-12 div.sk-toggleable__content {max-height: 0;max-width: 0;overflow: hidden;text-align: left;background-color: #f0f8ff;}#sk-container-id-12 div.sk-toggleable__content pre {margin: 0.2em;color: black;border-radius: 0.25em;background-color: #f0f8ff;}#sk-container-id-12 input.sk-toggleable__control:checked~div.sk-toggleable__content {max-height: 200px;max-width: 100%;overflow: auto;}#sk-container-id-12 input.sk-toggleable__control:checked~label.sk-toggleable__label-arrow:before {content: \"▾\";}#sk-container-id-12 div.sk-estimator input.sk-toggleable__control:checked~label.sk-toggleable__label {background-color: #d4ebff;}#sk-container-id-12 div.sk-label input.sk-toggleable__control:checked~label.sk-toggleable__label {background-color: #d4ebff;}#sk-container-id-12 input.sk-hidden--visually {border: 0;clip: rect(1px 1px 1px 1px);clip: rect(1px, 1px, 1px, 1px);height: 1px;margin: -1px;overflow: hidden;padding: 0;position: absolute;width: 1px;}#sk-container-id-12 div.sk-estimator {font-family: monospace;background-color: #f0f8ff;border: 1px dotted black;border-radius: 0.25em;box-sizing: border-box;margin-bottom: 0.5em;}#sk-container-id-12 div.sk-estimator:hover {background-color: #d4ebff;}#sk-container-id-12 div.sk-parallel-item::after {content: \"\";width: 100%;border-bottom: 1px solid gray;flex-grow: 1;}#sk-container-id-12 div.sk-label:hover label.sk-toggleable__label {background-color: #d4ebff;}#sk-container-id-12 div.sk-serial::before {content: \"\";position: absolute;border-left: 1px solid gray;box-sizing: border-box;top: 0;bottom: 0;left: 50%;z-index: 0;}#sk-container-id-12 div.sk-serial {display: flex;flex-direction: column;align-items: center;background-color: white;padding-right: 0.2em;padding-left: 0.2em;position: relative;}#sk-container-id-12 div.sk-item {position: relative;z-index: 1;}#sk-container-id-12 div.sk-parallel {display: flex;align-items: stretch;justify-content: center;background-color: white;position: relative;}#sk-container-id-12 div.sk-item::before, #sk-container-id-12 div.sk-parallel-item::before {content: \"\";position: absolute;border-left: 1px solid gray;box-sizing: border-box;top: 0;bottom: 0;left: 50%;z-index: -1;}#sk-container-id-12 div.sk-parallel-item {display: flex;flex-direction: column;z-index: 1;position: relative;background-color: white;}#sk-container-id-12 div.sk-parallel-item:first-child::after {align-self: flex-end;width: 50%;}#sk-container-id-12 div.sk-parallel-item:last-child::after {align-self: flex-start;width: 50%;}#sk-container-id-12 div.sk-parallel-item:only-child::after {width: 0;}#sk-container-id-12 div.sk-dashed-wrapped {border: 1px dashed gray;margin: 0 0.4em 0.5em 0.4em;box-sizing: border-box;padding-bottom: 0.4em;background-color: white;}#sk-container-id-12 div.sk-label label {font-family: monospace;font-weight: bold;display: inline-block;line-height: 1.2em;}#sk-container-id-12 div.sk-label-container {text-align: center;}#sk-container-id-12 div.sk-container {/* jupyter's `normalize.less` sets `[hidden] { display: none; }` but bootstrap.min.css set `[hidden] { display: none !important; }` so we also need the `!important` here to be able to override the default hidden behavior on the sphinx rendered scikit-learn.org. See: https://github.com/scikit-learn/scikit-learn/issues/21755 */display: inline-block !important;position: relative;}#sk-container-id-12 div.sk-text-repr-fallback {display: none;}</style><div id=\"sk-container-id-12\" class=\"sk-top-container\"><div class=\"sk-text-repr-fallback\"><pre>KNeighborsClassifier()</pre><b>In a Jupyter environment, please rerun this cell to show the HTML representation or trust the notebook. <br />On GitHub, the HTML representation is unable to render, please try loading this page with nbviewer.org.</b></div><div class=\"sk-container\" hidden><div class=\"sk-item\"><div class=\"sk-estimator sk-toggleable\"><input class=\"sk-toggleable__control sk-hidden--visually\" id=\"sk-estimator-id-28\" type=\"checkbox\" checked><label for=\"sk-estimator-id-28\" class=\"sk-toggleable__label sk-toggleable__label-arrow\">KNeighborsClassifier</label><div class=\"sk-toggleable__content\"><pre>KNeighborsClassifier()</pre></div></div></div></div></div>"
      ],
      "text/plain": [
       "KNeighborsClassifier()"
      ]
     },
     "execution_count": 516,
     "metadata": {},
     "output_type": "execute_result"
    }
   ],
   "source": [
    "# TODO: 25 Train the KNN model in this cell\n",
    "\n",
    "from sklearn.neighbors import KNeighborsClassifier\n",
    "\n",
    "model = KNeighborsClassifier(n_neighbors=5)\n",
    "model.fit(X_train_scaled, y_train)"
   ]
  },
  {
   "cell_type": "code",
   "execution_count": 517,
   "id": "6f5a2f53",
   "metadata": {},
   "outputs": [],
   "source": [
    "# TODO: 26  Perform all necessary transformation on X_test in this cell to prepare it for predict()\n",
    "# look at all the transformation logic that was performed on X_train and repeat it for X_test here\n",
    "# Put your code here. No template is provided for this section\n",
    "\n",
    "# Import IterativeImputer\n",
    "from sklearn.experimental import enable_iterative_imputer\n",
    "from sklearn.impute import IterativeImputer\n",
    "\n",
    "# Apply iterative imputation\n",
    "imputer = IterativeImputer()\n",
    "X_test_imputed = imputer.fit_transform(X_test)\n",
    "\n",
    "# Standardize features using the same scaler\n",
    "X_test_scaled = scaler.transform(X_test_imputed)\n"
   ]
  },
  {
   "cell_type": "code",
   "execution_count": 518,
   "id": "75b6160a",
   "metadata": {},
   "outputs": [
    {
     "data": {
      "text/plain": [
       "0.6397849462365591"
      ]
     },
     "execution_count": 518,
     "metadata": {},
     "output_type": "execute_result"
    }
   ],
   "source": [
    "# TODO: 27\n",
    "\n",
    "# Write code here to predict using the model and calculate & display the accuracy of your model \n",
    "# You should get an accuracy of around 75%\n",
    "\n",
    "from sklearn.metrics import accuracy_score\n",
    "\n",
    "# Do prediction using knn here\n",
    "y_pred = model.predict(X_test_scaled)\n",
    "\n",
    "accuracy_score(y_pred=y_pred, y_true=y_test)"
   ]
  },
  {
   "cell_type": "markdown",
   "id": "b8bad42d",
   "metadata": {},
   "source": [
    "# Part 2: Data processing and prediction using a pipeline"
   ]
  },
  {
   "cell_type": "code",
   "execution_count": 519,
   "id": "d179087c",
   "metadata": {},
   "outputs": [
    {
     "name": "stdout",
     "output_type": "stream",
     "text": [
      "Number of duplicates = 1256\n",
      "Total number of rows in the DataFrame after dropping duplicates: 744\n",
      "Null counts for each feature:\n",
      "Pregnancies                 0\n",
      "Glucose                     0\n",
      "BloodPressure               0\n",
      "SkinThickness               0\n",
      "Insulin                     0\n",
      "BMI                         0\n",
      "DiabetesPedigreeFunction    0\n",
      "Age                         0\n",
      "Outcome                     0\n",
      "dtype: int64\n",
      "Distinct counts for each feature:\n",
      "Pregnancies                  17\n",
      "Glucose                     136\n",
      "BloodPressure                47\n",
      "SkinThickness                53\n",
      "Insulin                     182\n",
      "BMI                         247\n",
      "DiabetesPedigreeFunction    505\n",
      "Age                          52\n",
      "Outcome                       2\n",
      "dtype: int64\n"
     ]
    }
   ],
   "source": [
    "# TODO: 28 Repeat activities that need to be done outside pipeline\n",
    "# Reading csv, dropping duplicates & other steps that you might have performed - but need to be done outside the pipeline now  \n",
    "\n",
    "# Read the CSV file\n",
    "df = pd.read_csv('d2.csv')\n",
    "\n",
    "# Display the first few rows of the DataFrame\n",
    "df.head()\n",
    "\n",
    "# Check for and drop duplicates\n",
    "dupsSeries = df.duplicated()\n",
    "print(f\"Number of duplicates = {dupsSeries.sum()}\")\n",
    "df.drop_duplicates(inplace=True)\n",
    "\n",
    "# Display how many rows exist in the DataFrame after dropping duplicates\n",
    "print('Total number of rows in the DataFrame after dropping duplicates:', len(df))\n",
    "\n",
    "# Check for null values and display their totals for each feature\n",
    "null_counts = df.isnull().sum()\n",
    "print('Null counts for each feature:')\n",
    "print(null_counts)\n",
    "\n",
    "# Identify candidate features for encoding by seeing how many distinct values are present in every column\n",
    "distinct_counts = df.nunique()\n",
    "print('Distinct counts for each feature:')\n",
    "print(distinct_counts)\n",
    "\n"
   ]
  },
  {
   "cell_type": "code",
   "execution_count": 520,
   "id": "06c58185",
   "metadata": {},
   "outputs": [],
   "source": [
    "# TODO: 29 Split the data into X and y. Then do train test split here\n",
    "\n",
    "y = df.pop(\"Outcome\")\n",
    "X = df\n",
    "\n",
    "X_train, X_test, y_train, y_test = train_test_split(X, y, test_size=0.25, random_state=0)\n"
   ]
  },
  {
   "cell_type": "markdown",
   "id": "754a1451",
   "metadata": {},
   "source": [
    "Design a pipeline that looks like following:\n",
    "\n",
    "![Pipeline](https://onedrive.live.com/embed?resid=A5A4158EF1352FCB%211956&authkey=%21AAa4xv7U8X35D44&width=550)\n",
    "\n",
    "1. SimpleImputer performs mean imputation only on the relevant columns\n",
    "2. IdentityTransformer (whose code is given below) is a custom sklearn transformer that performs no operation on the input data. Input data is passed through as is \n",
    "3. The two are wrapped within a ColumnTransformer\n",
    "4. This is followed by sequential execution of IterativeImputer, StandaScaler and the KNN based clasifier"
   ]
  },
  {
   "cell_type": "code",
   "execution_count": 521,
   "id": "2193171f",
   "metadata": {},
   "outputs": [],
   "source": [
    "from sklearn.pipeline import Pipeline\n",
    "from sklearn.compose import ColumnTransformer\n",
    "from sklearn.impute import SimpleImputer\n",
    "from sklearn.preprocessing import StandardScaler\n",
    "from sklearn.neighbors import KNeighborsClassifier\n",
    "from sklearn.experimental import enable_iterative_imputer\n",
    "from sklearn.impute import IterativeImputer\n",
    "from sklearn.base import BaseEstimator, TransformerMixin\n",
    "\n",
    "# Define the IdentityTransformer\n",
    "class IdentityTransformer(BaseEstimator, TransformerMixin):\n",
    "    def __init__(self):\n",
    "        pass\n",
    "\n",
    "    def fit(self, X, y=None):\n",
    "        return self\n",
    "\n",
    "    def transform(self, X, y=None):\n",
    "        return X\n",
    "\n",
    "# Specify the relevant columns\n",
    "relevant_columns = ['Glucose', 'BloodPressure', 'BMI']\n",
    "\n",
    "# Create a list of columns that are not relevant_columns\n",
    "other_columns = [col for col in df.columns if col not in relevant_columns]\n",
    "\n",
    "# Define the column transformer\n",
    "column_transformer = ColumnTransformer(\n",
    "    transformers=[\n",
    "        ('imputer', SimpleImputer(strategy='mean'), relevant_columns),\n",
    "        ('identity', IdentityTransformer(), other_columns)\n",
    "    ],\n",
    "    remainder='passthrough'\n",
    ")\n",
    "\n",
    "# Create the pipeline\n",
    "pipeline = Pipeline([\n",
    "    ('column_transform', column_transformer),\n",
    "    ('iterative_imputer', IterativeImputer()),  # You can specify parameters for IterativeImputer if needed\n",
    "    ('scaler', StandardScaler()),\n",
    "    ('knn_classifier', KNeighborsClassifier())  # You can specify parameters for KNeighborsClassifier if needed\n",
    "])\n",
    "\n",
    "# Now, you can fit the pipeline with X_train and y_train\n",
    "pipeline.fit(X_train, y_train)\n",
    "\n",
    "# You can also predict with the fitted pipeline\n",
    "y_pred = pipeline.predict(X_test)\n"
   ]
  },
  {
   "cell_type": "markdown",
   "id": "e10f98d8",
   "metadata": {},
   "source": [
    "Look at the columns of the dataframe and decide which ones need to go to SimpleImputer and which ones should go to IdentityTransformer "
   ]
  },
  {
   "cell_type": "code",
   "execution_count": 522,
   "id": "d87b1028",
   "metadata": {},
   "outputs": [
    {
     "data": {
      "text/plain": [
       "Index(['Pregnancies', 'Glucose', 'BloodPressure', 'SkinThickness', 'Insulin',\n",
       "       'BMI', 'DiabetesPedigreeFunction', 'Age'],\n",
       "      dtype='object')"
      ]
     },
     "execution_count": 522,
     "metadata": {},
     "output_type": "execute_result"
    }
   ],
   "source": [
    "df.columns"
   ]
  },
  {
   "cell_type": "code",
   "execution_count": 523,
   "id": "3ecccade",
   "metadata": {},
   "outputs": [
    {
     "data": {
      "text/plain": [
       "['Glucose', 'BloodPressure', 'BMI']"
      ]
     },
     "execution_count": 523,
     "metadata": {},
     "output_type": "execute_result"
    }
   ],
   "source": [
    "# TODO: 30 Select the columns for mean imputation\n",
    "# Do not type the names directly. Use indices\n",
    "mean_impute_col_indices = [1, 2, 5]\n",
    "mean_impute_cols = df.columns[mean_impute_col_indices].to_list()\n",
    "\n",
    "mean_impute_cols"
   ]
  },
  {
   "cell_type": "code",
   "execution_count": 524,
   "id": "0813cbf4",
   "metadata": {},
   "outputs": [
    {
     "data": {
      "text/plain": [
       "array([False,  True,  True, False, False,  True, False, False])"
      ]
     },
     "execution_count": 524,
     "metadata": {},
     "output_type": "execute_result"
    }
   ],
   "source": [
    "mean_impute_col_mask = df.columns.isin(mean_impute_cols)\n",
    "mean_impute_col_mask"
   ]
  },
  {
   "cell_type": "code",
   "execution_count": 525,
   "id": "ec2d2990",
   "metadata": {},
   "outputs": [
    {
     "data": {
      "text/plain": [
       "['Pregnancies', 'SkinThickness', 'Insulin', 'DiabetesPedigreeFunction', 'Age']"
      ]
     },
     "execution_count": 525,
     "metadata": {},
     "output_type": "execute_result"
    }
   ],
   "source": [
    "# TODO: 31 Use the mean_impute_col_mask to select remaining columns from df.columns to be used with IdentityTransformer\n",
    "other_cols = df.columns[~mean_impute_col_mask].to_list()\n",
    "other_cols"
   ]
  },
  {
   "cell_type": "code",
   "execution_count": 526,
   "id": "10cb21af",
   "metadata": {},
   "outputs": [],
   "source": [
    "# TODO 32 Build the pipeline using the diagram shown earlier and the details provided along with it\n",
    " \n",
    "from sklearn.compose import ColumnTransformer\n",
    "from sklearn.pipeline import Pipeline\n",
    "from sklearn.impute import SimpleImputer\n",
    "from sklearn.preprocessing import StandardScaler\n",
    "from sklearn.experimental import enable_iterative_imputer\n",
    "from sklearn.impute import IterativeImputer\n",
    "from sklearn.neighbors import KNeighborsClassifier\n",
    "from sklearn.preprocessing import FunctionTransformer\n",
    "\n",
    "# Define the relevant columns\n",
    "relevant_columns = ['Glucose', 'BloodPressure', 'BMI']\n",
    "\n",
    "# Create a mean imputer for relevant columns\n",
    "mean_imputer = Pipeline([\n",
    "    ('imputer', SimpleImputer(strategy='mean')),\n",
    "])\n",
    "\n",
    "# Create an identity transformer for other columns\n",
    "identity_transformer = FunctionTransformer(lambda X: X)\n",
    "\n",
    "# Use ColumnTransformer to apply different transformers to relevant and other columns\n",
    "column_transformer = ColumnTransformer(\n",
    "    transformers=[\n",
    "        ('mean_imputer', mean_imputer, relevant_columns),\n",
    "        ('identity_transformer', identity_transformer, other_cols)\n",
    "    ])\n",
    "\n",
    "# Create the main pipeline\n",
    "pipeline = Pipeline([\n",
    "    ('column_transform', column_transformer),\n",
    "    ('iterative_imputer', IterativeImputer()),\n",
    "    ('scaler', StandardScaler()),\n",
    "    ('knn_classifier', KNeighborsClassifier())\n",
    "])\n"
   ]
  },
  {
   "cell_type": "code",
   "execution_count": 527,
   "id": "c41ed129",
   "metadata": {},
   "outputs": [
    {
     "data": {
      "text/html": [
       "<style>#sk-container-id-13 {color: black;background-color: white;}#sk-container-id-13 pre{padding: 0;}#sk-container-id-13 div.sk-toggleable {background-color: white;}#sk-container-id-13 label.sk-toggleable__label {cursor: pointer;display: block;width: 100%;margin-bottom: 0;padding: 0.3em;box-sizing: border-box;text-align: center;}#sk-container-id-13 label.sk-toggleable__label-arrow:before {content: \"▸\";float: left;margin-right: 0.25em;color: #696969;}#sk-container-id-13 label.sk-toggleable__label-arrow:hover:before {color: black;}#sk-container-id-13 div.sk-estimator:hover label.sk-toggleable__label-arrow:before {color: black;}#sk-container-id-13 div.sk-toggleable__content {max-height: 0;max-width: 0;overflow: hidden;text-align: left;background-color: #f0f8ff;}#sk-container-id-13 div.sk-toggleable__content pre {margin: 0.2em;color: black;border-radius: 0.25em;background-color: #f0f8ff;}#sk-container-id-13 input.sk-toggleable__control:checked~div.sk-toggleable__content {max-height: 200px;max-width: 100%;overflow: auto;}#sk-container-id-13 input.sk-toggleable__control:checked~label.sk-toggleable__label-arrow:before {content: \"▾\";}#sk-container-id-13 div.sk-estimator input.sk-toggleable__control:checked~label.sk-toggleable__label {background-color: #d4ebff;}#sk-container-id-13 div.sk-label input.sk-toggleable__control:checked~label.sk-toggleable__label {background-color: #d4ebff;}#sk-container-id-13 input.sk-hidden--visually {border: 0;clip: rect(1px 1px 1px 1px);clip: rect(1px, 1px, 1px, 1px);height: 1px;margin: -1px;overflow: hidden;padding: 0;position: absolute;width: 1px;}#sk-container-id-13 div.sk-estimator {font-family: monospace;background-color: #f0f8ff;border: 1px dotted black;border-radius: 0.25em;box-sizing: border-box;margin-bottom: 0.5em;}#sk-container-id-13 div.sk-estimator:hover {background-color: #d4ebff;}#sk-container-id-13 div.sk-parallel-item::after {content: \"\";width: 100%;border-bottom: 1px solid gray;flex-grow: 1;}#sk-container-id-13 div.sk-label:hover label.sk-toggleable__label {background-color: #d4ebff;}#sk-container-id-13 div.sk-serial::before {content: \"\";position: absolute;border-left: 1px solid gray;box-sizing: border-box;top: 0;bottom: 0;left: 50%;z-index: 0;}#sk-container-id-13 div.sk-serial {display: flex;flex-direction: column;align-items: center;background-color: white;padding-right: 0.2em;padding-left: 0.2em;position: relative;}#sk-container-id-13 div.sk-item {position: relative;z-index: 1;}#sk-container-id-13 div.sk-parallel {display: flex;align-items: stretch;justify-content: center;background-color: white;position: relative;}#sk-container-id-13 div.sk-item::before, #sk-container-id-13 div.sk-parallel-item::before {content: \"\";position: absolute;border-left: 1px solid gray;box-sizing: border-box;top: 0;bottom: 0;left: 50%;z-index: -1;}#sk-container-id-13 div.sk-parallel-item {display: flex;flex-direction: column;z-index: 1;position: relative;background-color: white;}#sk-container-id-13 div.sk-parallel-item:first-child::after {align-self: flex-end;width: 50%;}#sk-container-id-13 div.sk-parallel-item:last-child::after {align-self: flex-start;width: 50%;}#sk-container-id-13 div.sk-parallel-item:only-child::after {width: 0;}#sk-container-id-13 div.sk-dashed-wrapped {border: 1px dashed gray;margin: 0 0.4em 0.5em 0.4em;box-sizing: border-box;padding-bottom: 0.4em;background-color: white;}#sk-container-id-13 div.sk-label label {font-family: monospace;font-weight: bold;display: inline-block;line-height: 1.2em;}#sk-container-id-13 div.sk-label-container {text-align: center;}#sk-container-id-13 div.sk-container {/* jupyter's `normalize.less` sets `[hidden] { display: none; }` but bootstrap.min.css set `[hidden] { display: none !important; }` so we also need the `!important` here to be able to override the default hidden behavior on the sphinx rendered scikit-learn.org. See: https://github.com/scikit-learn/scikit-learn/issues/21755 */display: inline-block !important;position: relative;}#sk-container-id-13 div.sk-text-repr-fallback {display: none;}</style><div id=\"sk-container-id-13\" class=\"sk-top-container\"><div class=\"sk-text-repr-fallback\"><pre>Pipeline(steps=[(&#x27;column_transform&#x27;,\n",
       "                 ColumnTransformer(transformers=[(&#x27;mean_imputer&#x27;,\n",
       "                                                  Pipeline(steps=[(&#x27;imputer&#x27;,\n",
       "                                                                   SimpleImputer())]),\n",
       "                                                  [&#x27;Glucose&#x27;, &#x27;BloodPressure&#x27;,\n",
       "                                                   &#x27;BMI&#x27;]),\n",
       "                                                 (&#x27;identity_transformer&#x27;,\n",
       "                                                  FunctionTransformer(func=&lt;function &lt;lambda&gt; at 0x000002400E17CAF0&gt;),\n",
       "                                                  [&#x27;Pregnancies&#x27;,\n",
       "                                                   &#x27;SkinThickness&#x27;, &#x27;Insulin&#x27;,\n",
       "                                                   &#x27;DiabetesPedigreeFunction&#x27;,\n",
       "                                                   &#x27;Age&#x27;])])),\n",
       "                (&#x27;iterative_imputer&#x27;, IterativeImputer()),\n",
       "                (&#x27;scaler&#x27;, StandardScaler()),\n",
       "                (&#x27;knn_classifier&#x27;, KNeighborsClassifier())])</pre><b>In a Jupyter environment, please rerun this cell to show the HTML representation or trust the notebook. <br />On GitHub, the HTML representation is unable to render, please try loading this page with nbviewer.org.</b></div><div class=\"sk-container\" hidden><div class=\"sk-item sk-dashed-wrapped\"><div class=\"sk-label-container\"><div class=\"sk-label sk-toggleable\"><input class=\"sk-toggleable__control sk-hidden--visually\" id=\"sk-estimator-id-29\" type=\"checkbox\" ><label for=\"sk-estimator-id-29\" class=\"sk-toggleable__label sk-toggleable__label-arrow\">Pipeline</label><div class=\"sk-toggleable__content\"><pre>Pipeline(steps=[(&#x27;column_transform&#x27;,\n",
       "                 ColumnTransformer(transformers=[(&#x27;mean_imputer&#x27;,\n",
       "                                                  Pipeline(steps=[(&#x27;imputer&#x27;,\n",
       "                                                                   SimpleImputer())]),\n",
       "                                                  [&#x27;Glucose&#x27;, &#x27;BloodPressure&#x27;,\n",
       "                                                   &#x27;BMI&#x27;]),\n",
       "                                                 (&#x27;identity_transformer&#x27;,\n",
       "                                                  FunctionTransformer(func=&lt;function &lt;lambda&gt; at 0x000002400E17CAF0&gt;),\n",
       "                                                  [&#x27;Pregnancies&#x27;,\n",
       "                                                   &#x27;SkinThickness&#x27;, &#x27;Insulin&#x27;,\n",
       "                                                   &#x27;DiabetesPedigreeFunction&#x27;,\n",
       "                                                   &#x27;Age&#x27;])])),\n",
       "                (&#x27;iterative_imputer&#x27;, IterativeImputer()),\n",
       "                (&#x27;scaler&#x27;, StandardScaler()),\n",
       "                (&#x27;knn_classifier&#x27;, KNeighborsClassifier())])</pre></div></div></div><div class=\"sk-serial\"><div class=\"sk-item sk-dashed-wrapped\"><div class=\"sk-label-container\"><div class=\"sk-label sk-toggleable\"><input class=\"sk-toggleable__control sk-hidden--visually\" id=\"sk-estimator-id-30\" type=\"checkbox\" ><label for=\"sk-estimator-id-30\" class=\"sk-toggleable__label sk-toggleable__label-arrow\">column_transform: ColumnTransformer</label><div class=\"sk-toggleable__content\"><pre>ColumnTransformer(transformers=[(&#x27;mean_imputer&#x27;,\n",
       "                                 Pipeline(steps=[(&#x27;imputer&#x27;, SimpleImputer())]),\n",
       "                                 [&#x27;Glucose&#x27;, &#x27;BloodPressure&#x27;, &#x27;BMI&#x27;]),\n",
       "                                (&#x27;identity_transformer&#x27;,\n",
       "                                 FunctionTransformer(func=&lt;function &lt;lambda&gt; at 0x000002400E17CAF0&gt;),\n",
       "                                 [&#x27;Pregnancies&#x27;, &#x27;SkinThickness&#x27;, &#x27;Insulin&#x27;,\n",
       "                                  &#x27;DiabetesPedigreeFunction&#x27;, &#x27;Age&#x27;])])</pre></div></div></div><div class=\"sk-parallel\"><div class=\"sk-parallel-item\"><div class=\"sk-item\"><div class=\"sk-label-container\"><div class=\"sk-label sk-toggleable\"><input class=\"sk-toggleable__control sk-hidden--visually\" id=\"sk-estimator-id-31\" type=\"checkbox\" ><label for=\"sk-estimator-id-31\" class=\"sk-toggleable__label sk-toggleable__label-arrow\">mean_imputer</label><div class=\"sk-toggleable__content\"><pre>[&#x27;Glucose&#x27;, &#x27;BloodPressure&#x27;, &#x27;BMI&#x27;]</pre></div></div></div><div class=\"sk-serial\"><div class=\"sk-item\"><div class=\"sk-serial\"><div class=\"sk-item\"><div class=\"sk-estimator sk-toggleable\"><input class=\"sk-toggleable__control sk-hidden--visually\" id=\"sk-estimator-id-32\" type=\"checkbox\" ><label for=\"sk-estimator-id-32\" class=\"sk-toggleable__label sk-toggleable__label-arrow\">SimpleImputer</label><div class=\"sk-toggleable__content\"><pre>SimpleImputer()</pre></div></div></div></div></div></div></div></div><div class=\"sk-parallel-item\"><div class=\"sk-item\"><div class=\"sk-label-container\"><div class=\"sk-label sk-toggleable\"><input class=\"sk-toggleable__control sk-hidden--visually\" id=\"sk-estimator-id-33\" type=\"checkbox\" ><label for=\"sk-estimator-id-33\" class=\"sk-toggleable__label sk-toggleable__label-arrow\">identity_transformer</label><div class=\"sk-toggleable__content\"><pre>[&#x27;Pregnancies&#x27;, &#x27;SkinThickness&#x27;, &#x27;Insulin&#x27;, &#x27;DiabetesPedigreeFunction&#x27;, &#x27;Age&#x27;]</pre></div></div></div><div class=\"sk-serial\"><div class=\"sk-item\"><div class=\"sk-estimator sk-toggleable\"><input class=\"sk-toggleable__control sk-hidden--visually\" id=\"sk-estimator-id-34\" type=\"checkbox\" ><label for=\"sk-estimator-id-34\" class=\"sk-toggleable__label sk-toggleable__label-arrow\">FunctionTransformer</label><div class=\"sk-toggleable__content\"><pre>FunctionTransformer(func=&lt;function &lt;lambda&gt; at 0x000002400E17CAF0&gt;)</pre></div></div></div></div></div></div></div></div><div class=\"sk-item\"><div class=\"sk-estimator sk-toggleable\"><input class=\"sk-toggleable__control sk-hidden--visually\" id=\"sk-estimator-id-35\" type=\"checkbox\" ><label for=\"sk-estimator-id-35\" class=\"sk-toggleable__label sk-toggleable__label-arrow\">IterativeImputer</label><div class=\"sk-toggleable__content\"><pre>IterativeImputer()</pre></div></div></div><div class=\"sk-item\"><div class=\"sk-estimator sk-toggleable\"><input class=\"sk-toggleable__control sk-hidden--visually\" id=\"sk-estimator-id-36\" type=\"checkbox\" ><label for=\"sk-estimator-id-36\" class=\"sk-toggleable__label sk-toggleable__label-arrow\">StandardScaler</label><div class=\"sk-toggleable__content\"><pre>StandardScaler()</pre></div></div></div><div class=\"sk-item\"><div class=\"sk-estimator sk-toggleable\"><input class=\"sk-toggleable__control sk-hidden--visually\" id=\"sk-estimator-id-37\" type=\"checkbox\" ><label for=\"sk-estimator-id-37\" class=\"sk-toggleable__label sk-toggleable__label-arrow\">KNeighborsClassifier</label><div class=\"sk-toggleable__content\"><pre>KNeighborsClassifier()</pre></div></div></div></div></div></div></div>"
      ],
      "text/plain": [
       "Pipeline(steps=[('column_transform',\n",
       "                 ColumnTransformer(transformers=[('mean_imputer',\n",
       "                                                  Pipeline(steps=[('imputer',\n",
       "                                                                   SimpleImputer())]),\n",
       "                                                  ['Glucose', 'BloodPressure',\n",
       "                                                   'BMI']),\n",
       "                                                 ('identity_transformer',\n",
       "                                                  FunctionTransformer(func=<function <lambda> at 0x000002400E17CAF0>),\n",
       "                                                  ['Pregnancies',\n",
       "                                                   'SkinThickness', 'Insulin',\n",
       "                                                   'DiabetesPedigreeFunction',\n",
       "                                                   'Age'])])),\n",
       "                ('iterative_imputer', IterativeImputer()),\n",
       "                ('scaler', StandardScaler()),\n",
       "                ('knn_classifier', KNeighborsClassifier())])"
      ]
     },
     "execution_count": 527,
     "metadata": {},
     "output_type": "execute_result"
    }
   ],
   "source": [
    "# TODO: 33 Run this cell to verify if indeed your pipeline looks like what was expected\n",
    "\n",
    "from sklearn import set_config\n",
    "set_config(display='diagram')\n",
    "pipeline  # Put your pipeline variable name here to display pipeline as diagram"
   ]
  },
  {
   "cell_type": "code",
   "execution_count": 528,
   "id": "8742fe51",
   "metadata": {},
   "outputs": [
    {
     "data": {
      "text/html": [
       "<style>#sk-container-id-14 {color: black;background-color: white;}#sk-container-id-14 pre{padding: 0;}#sk-container-id-14 div.sk-toggleable {background-color: white;}#sk-container-id-14 label.sk-toggleable__label {cursor: pointer;display: block;width: 100%;margin-bottom: 0;padding: 0.3em;box-sizing: border-box;text-align: center;}#sk-container-id-14 label.sk-toggleable__label-arrow:before {content: \"▸\";float: left;margin-right: 0.25em;color: #696969;}#sk-container-id-14 label.sk-toggleable__label-arrow:hover:before {color: black;}#sk-container-id-14 div.sk-estimator:hover label.sk-toggleable__label-arrow:before {color: black;}#sk-container-id-14 div.sk-toggleable__content {max-height: 0;max-width: 0;overflow: hidden;text-align: left;background-color: #f0f8ff;}#sk-container-id-14 div.sk-toggleable__content pre {margin: 0.2em;color: black;border-radius: 0.25em;background-color: #f0f8ff;}#sk-container-id-14 input.sk-toggleable__control:checked~div.sk-toggleable__content {max-height: 200px;max-width: 100%;overflow: auto;}#sk-container-id-14 input.sk-toggleable__control:checked~label.sk-toggleable__label-arrow:before {content: \"▾\";}#sk-container-id-14 div.sk-estimator input.sk-toggleable__control:checked~label.sk-toggleable__label {background-color: #d4ebff;}#sk-container-id-14 div.sk-label input.sk-toggleable__control:checked~label.sk-toggleable__label {background-color: #d4ebff;}#sk-container-id-14 input.sk-hidden--visually {border: 0;clip: rect(1px 1px 1px 1px);clip: rect(1px, 1px, 1px, 1px);height: 1px;margin: -1px;overflow: hidden;padding: 0;position: absolute;width: 1px;}#sk-container-id-14 div.sk-estimator {font-family: monospace;background-color: #f0f8ff;border: 1px dotted black;border-radius: 0.25em;box-sizing: border-box;margin-bottom: 0.5em;}#sk-container-id-14 div.sk-estimator:hover {background-color: #d4ebff;}#sk-container-id-14 div.sk-parallel-item::after {content: \"\";width: 100%;border-bottom: 1px solid gray;flex-grow: 1;}#sk-container-id-14 div.sk-label:hover label.sk-toggleable__label {background-color: #d4ebff;}#sk-container-id-14 div.sk-serial::before {content: \"\";position: absolute;border-left: 1px solid gray;box-sizing: border-box;top: 0;bottom: 0;left: 50%;z-index: 0;}#sk-container-id-14 div.sk-serial {display: flex;flex-direction: column;align-items: center;background-color: white;padding-right: 0.2em;padding-left: 0.2em;position: relative;}#sk-container-id-14 div.sk-item {position: relative;z-index: 1;}#sk-container-id-14 div.sk-parallel {display: flex;align-items: stretch;justify-content: center;background-color: white;position: relative;}#sk-container-id-14 div.sk-item::before, #sk-container-id-14 div.sk-parallel-item::before {content: \"\";position: absolute;border-left: 1px solid gray;box-sizing: border-box;top: 0;bottom: 0;left: 50%;z-index: -1;}#sk-container-id-14 div.sk-parallel-item {display: flex;flex-direction: column;z-index: 1;position: relative;background-color: white;}#sk-container-id-14 div.sk-parallel-item:first-child::after {align-self: flex-end;width: 50%;}#sk-container-id-14 div.sk-parallel-item:last-child::after {align-self: flex-start;width: 50%;}#sk-container-id-14 div.sk-parallel-item:only-child::after {width: 0;}#sk-container-id-14 div.sk-dashed-wrapped {border: 1px dashed gray;margin: 0 0.4em 0.5em 0.4em;box-sizing: border-box;padding-bottom: 0.4em;background-color: white;}#sk-container-id-14 div.sk-label label {font-family: monospace;font-weight: bold;display: inline-block;line-height: 1.2em;}#sk-container-id-14 div.sk-label-container {text-align: center;}#sk-container-id-14 div.sk-container {/* jupyter's `normalize.less` sets `[hidden] { display: none; }` but bootstrap.min.css set `[hidden] { display: none !important; }` so we also need the `!important` here to be able to override the default hidden behavior on the sphinx rendered scikit-learn.org. See: https://github.com/scikit-learn/scikit-learn/issues/21755 */display: inline-block !important;position: relative;}#sk-container-id-14 div.sk-text-repr-fallback {display: none;}</style><div id=\"sk-container-id-14\" class=\"sk-top-container\"><div class=\"sk-text-repr-fallback\"><pre>Pipeline(steps=[(&#x27;column_transform&#x27;,\n",
       "                 ColumnTransformer(transformers=[(&#x27;mean_imputer&#x27;,\n",
       "                                                  Pipeline(steps=[(&#x27;imputer&#x27;,\n",
       "                                                                   SimpleImputer())]),\n",
       "                                                  [&#x27;Glucose&#x27;, &#x27;BloodPressure&#x27;,\n",
       "                                                   &#x27;BMI&#x27;]),\n",
       "                                                 (&#x27;identity_transformer&#x27;,\n",
       "                                                  FunctionTransformer(func=&lt;function &lt;lambda&gt; at 0x000002400E17CAF0&gt;),\n",
       "                                                  [&#x27;Pregnancies&#x27;,\n",
       "                                                   &#x27;SkinThickness&#x27;, &#x27;Insulin&#x27;,\n",
       "                                                   &#x27;DiabetesPedigreeFunction&#x27;,\n",
       "                                                   &#x27;Age&#x27;])])),\n",
       "                (&#x27;iterative_imputer&#x27;, IterativeImputer()),\n",
       "                (&#x27;scaler&#x27;, StandardScaler()),\n",
       "                (&#x27;knn_classifier&#x27;, KNeighborsClassifier())])</pre><b>In a Jupyter environment, please rerun this cell to show the HTML representation or trust the notebook. <br />On GitHub, the HTML representation is unable to render, please try loading this page with nbviewer.org.</b></div><div class=\"sk-container\" hidden><div class=\"sk-item sk-dashed-wrapped\"><div class=\"sk-label-container\"><div class=\"sk-label sk-toggleable\"><input class=\"sk-toggleable__control sk-hidden--visually\" id=\"sk-estimator-id-38\" type=\"checkbox\" ><label for=\"sk-estimator-id-38\" class=\"sk-toggleable__label sk-toggleable__label-arrow\">Pipeline</label><div class=\"sk-toggleable__content\"><pre>Pipeline(steps=[(&#x27;column_transform&#x27;,\n",
       "                 ColumnTransformer(transformers=[(&#x27;mean_imputer&#x27;,\n",
       "                                                  Pipeline(steps=[(&#x27;imputer&#x27;,\n",
       "                                                                   SimpleImputer())]),\n",
       "                                                  [&#x27;Glucose&#x27;, &#x27;BloodPressure&#x27;,\n",
       "                                                   &#x27;BMI&#x27;]),\n",
       "                                                 (&#x27;identity_transformer&#x27;,\n",
       "                                                  FunctionTransformer(func=&lt;function &lt;lambda&gt; at 0x000002400E17CAF0&gt;),\n",
       "                                                  [&#x27;Pregnancies&#x27;,\n",
       "                                                   &#x27;SkinThickness&#x27;, &#x27;Insulin&#x27;,\n",
       "                                                   &#x27;DiabetesPedigreeFunction&#x27;,\n",
       "                                                   &#x27;Age&#x27;])])),\n",
       "                (&#x27;iterative_imputer&#x27;, IterativeImputer()),\n",
       "                (&#x27;scaler&#x27;, StandardScaler()),\n",
       "                (&#x27;knn_classifier&#x27;, KNeighborsClassifier())])</pre></div></div></div><div class=\"sk-serial\"><div class=\"sk-item sk-dashed-wrapped\"><div class=\"sk-label-container\"><div class=\"sk-label sk-toggleable\"><input class=\"sk-toggleable__control sk-hidden--visually\" id=\"sk-estimator-id-39\" type=\"checkbox\" ><label for=\"sk-estimator-id-39\" class=\"sk-toggleable__label sk-toggleable__label-arrow\">column_transform: ColumnTransformer</label><div class=\"sk-toggleable__content\"><pre>ColumnTransformer(transformers=[(&#x27;mean_imputer&#x27;,\n",
       "                                 Pipeline(steps=[(&#x27;imputer&#x27;, SimpleImputer())]),\n",
       "                                 [&#x27;Glucose&#x27;, &#x27;BloodPressure&#x27;, &#x27;BMI&#x27;]),\n",
       "                                (&#x27;identity_transformer&#x27;,\n",
       "                                 FunctionTransformer(func=&lt;function &lt;lambda&gt; at 0x000002400E17CAF0&gt;),\n",
       "                                 [&#x27;Pregnancies&#x27;, &#x27;SkinThickness&#x27;, &#x27;Insulin&#x27;,\n",
       "                                  &#x27;DiabetesPedigreeFunction&#x27;, &#x27;Age&#x27;])])</pre></div></div></div><div class=\"sk-parallel\"><div class=\"sk-parallel-item\"><div class=\"sk-item\"><div class=\"sk-label-container\"><div class=\"sk-label sk-toggleable\"><input class=\"sk-toggleable__control sk-hidden--visually\" id=\"sk-estimator-id-40\" type=\"checkbox\" ><label for=\"sk-estimator-id-40\" class=\"sk-toggleable__label sk-toggleable__label-arrow\">mean_imputer</label><div class=\"sk-toggleable__content\"><pre>[&#x27;Glucose&#x27;, &#x27;BloodPressure&#x27;, &#x27;BMI&#x27;]</pre></div></div></div><div class=\"sk-serial\"><div class=\"sk-item\"><div class=\"sk-serial\"><div class=\"sk-item\"><div class=\"sk-estimator sk-toggleable\"><input class=\"sk-toggleable__control sk-hidden--visually\" id=\"sk-estimator-id-41\" type=\"checkbox\" ><label for=\"sk-estimator-id-41\" class=\"sk-toggleable__label sk-toggleable__label-arrow\">SimpleImputer</label><div class=\"sk-toggleable__content\"><pre>SimpleImputer()</pre></div></div></div></div></div></div></div></div><div class=\"sk-parallel-item\"><div class=\"sk-item\"><div class=\"sk-label-container\"><div class=\"sk-label sk-toggleable\"><input class=\"sk-toggleable__control sk-hidden--visually\" id=\"sk-estimator-id-42\" type=\"checkbox\" ><label for=\"sk-estimator-id-42\" class=\"sk-toggleable__label sk-toggleable__label-arrow\">identity_transformer</label><div class=\"sk-toggleable__content\"><pre>[&#x27;Pregnancies&#x27;, &#x27;SkinThickness&#x27;, &#x27;Insulin&#x27;, &#x27;DiabetesPedigreeFunction&#x27;, &#x27;Age&#x27;]</pre></div></div></div><div class=\"sk-serial\"><div class=\"sk-item\"><div class=\"sk-estimator sk-toggleable\"><input class=\"sk-toggleable__control sk-hidden--visually\" id=\"sk-estimator-id-43\" type=\"checkbox\" ><label for=\"sk-estimator-id-43\" class=\"sk-toggleable__label sk-toggleable__label-arrow\">FunctionTransformer</label><div class=\"sk-toggleable__content\"><pre>FunctionTransformer(func=&lt;function &lt;lambda&gt; at 0x000002400E17CAF0&gt;)</pre></div></div></div></div></div></div></div></div><div class=\"sk-item\"><div class=\"sk-estimator sk-toggleable\"><input class=\"sk-toggleable__control sk-hidden--visually\" id=\"sk-estimator-id-44\" type=\"checkbox\" ><label for=\"sk-estimator-id-44\" class=\"sk-toggleable__label sk-toggleable__label-arrow\">IterativeImputer</label><div class=\"sk-toggleable__content\"><pre>IterativeImputer()</pre></div></div></div><div class=\"sk-item\"><div class=\"sk-estimator sk-toggleable\"><input class=\"sk-toggleable__control sk-hidden--visually\" id=\"sk-estimator-id-45\" type=\"checkbox\" ><label for=\"sk-estimator-id-45\" class=\"sk-toggleable__label sk-toggleable__label-arrow\">StandardScaler</label><div class=\"sk-toggleable__content\"><pre>StandardScaler()</pre></div></div></div><div class=\"sk-item\"><div class=\"sk-estimator sk-toggleable\"><input class=\"sk-toggleable__control sk-hidden--visually\" id=\"sk-estimator-id-46\" type=\"checkbox\" ><label for=\"sk-estimator-id-46\" class=\"sk-toggleable__label sk-toggleable__label-arrow\">KNeighborsClassifier</label><div class=\"sk-toggleable__content\"><pre>KNeighborsClassifier()</pre></div></div></div></div></div></div></div>"
      ],
      "text/plain": [
       "Pipeline(steps=[('column_transform',\n",
       "                 ColumnTransformer(transformers=[('mean_imputer',\n",
       "                                                  Pipeline(steps=[('imputer',\n",
       "                                                                   SimpleImputer())]),\n",
       "                                                  ['Glucose', 'BloodPressure',\n",
       "                                                   'BMI']),\n",
       "                                                 ('identity_transformer',\n",
       "                                                  FunctionTransformer(func=<function <lambda> at 0x000002400E17CAF0>),\n",
       "                                                  ['Pregnancies',\n",
       "                                                   'SkinThickness', 'Insulin',\n",
       "                                                   'DiabetesPedigreeFunction',\n",
       "                                                   'Age'])])),\n",
       "                ('iterative_imputer', IterativeImputer()),\n",
       "                ('scaler', StandardScaler()),\n",
       "                ('knn_classifier', KNeighborsClassifier())])"
      ]
     },
     "execution_count": 528,
     "metadata": {},
     "output_type": "execute_result"
    }
   ],
   "source": [
    "# TODO: 34 Train pipeline with data\n",
    "pipeline.fit(X_train, y_train)\n"
   ]
  },
  {
   "cell_type": "code",
   "execution_count": 529,
   "id": "cc3033d3",
   "metadata": {},
   "outputs": [
    {
     "name": "stdout",
     "output_type": "stream",
     "text": [
      "Accuracy: 0.7903225806451613\n"
     ]
    }
   ],
   "source": [
    "# TODO: 35 Do predictions with pipeline and calculate the accuracy score  \n",
    "from sklearn.metrics import accuracy_score\n",
    "\n",
    "# Make predictions on the test data\n",
    "y_pred = pipeline.predict(X_test)\n",
    "\n",
    "# Calculate the accuracy score\n",
    "accuracy = accuracy_score(y_test, y_pred)\n",
    "print(\"Accuracy:\", accuracy)\n"
   ]
  },
  {
   "cell_type": "markdown",
   "id": "67f0a19b",
   "metadata": {},
   "source": [
    "# Part 3: Combine pipeline & gridsearch for hyperparam tuning"
   ]
  },
  {
   "cell_type": "code",
   "execution_count": 530,
   "id": "1a526416",
   "metadata": {},
   "outputs": [],
   "source": [
    "# TODO: 36. Use GridSearchCV with KFold = 3 for CV and train a model using the pipeline developed earlier \n",
    "from sklearn.model_selection import GridSearchCV, KFold\n",
    "\n",
    "# Create KFold\n",
    "kf = KFold(n_splits=3, shuffle=True, random_state=0)\n",
    "\n",
    "# Define hyperparameters\n",
    "grid_params = {\n",
    "    'knn_classifier__n_neighbors': [2, 3, 4, 5, 6],\n",
    "    'knn_classifier__weights': ['uniform', 'distance'],\n",
    "    'knn_classifier__metric': ['euclidean', 'manhattan']\n",
    "}\n",
    "\n",
    "# Create GridSearchCV object\n",
    "grid = GridSearchCV(pipeline, grid_params, cv=kf)\n",
    "\n",
    "# Perform hyperparameter tuning\n",
    "fitted_model = grid.fit(X_train, y_train)\n"
   ]
  },
  {
   "cell_type": "code",
   "execution_count": 531,
   "id": "f0398f53",
   "metadata": {},
   "outputs": [
    {
     "name": "stdout",
     "output_type": "stream",
     "text": [
      "0.7275985663082437\n",
      "Pipeline(steps=[('column_transform',\n",
      "                 ColumnTransformer(transformers=[('mean_imputer',\n",
      "                                                  Pipeline(steps=[('imputer',\n",
      "                                                                   SimpleImputer())]),\n",
      "                                                  ['Glucose', 'BloodPressure',\n",
      "                                                   'BMI']),\n",
      "                                                 ('identity_transformer',\n",
      "                                                  FunctionTransformer(func=<function <lambda> at 0x000002400E17CAF0>),\n",
      "                                                  ['Pregnancies',\n",
      "                                                   'SkinThickness', 'Insulin',\n",
      "                                                   'DiabetesPedigreeFunction',\n",
      "                                                   'Age'])])),\n",
      "                ('iterative_imputer', IterativeImputer()),\n",
      "                ('scaler', StandardScaler()),\n",
      "                ('knn_classifier',\n",
      "                 KNeighborsClassifier(metric='manhattan', n_neighbors=6,\n",
      "                                      weights='distance'))])\n",
      "{'knn_classifier__metric': 'manhattan', 'knn_classifier__n_neighbors': 6, 'knn_classifier__weights': 'distance'}\n"
     ]
    }
   ],
   "source": [
    "# TODO: 37 Display the results for best score, best estimator and best params selected by Cross validation\n",
    "# fitted_model is the result of hyperpaarameter tuning in the previous cell\n",
    "print(fitted_model.best_score_)\n",
    "print(fitted_model.best_estimator_)\n",
    "print(fitted_model.best_params_)"
   ]
  },
  {
   "cell_type": "code",
   "execution_count": 532,
   "id": "ff5dded8",
   "metadata": {},
   "outputs": [
    {
     "name": "stdout",
     "output_type": "stream",
     "text": [
      "Accuracy: 0.7526881720430108\n"
     ]
    }
   ],
   "source": [
    "# TODO: 38 Do predictions with gridsearch and calculate the accuracy score\n",
    "\n",
    "# Use the fitted grid search model to make predictions\n",
    "y_pred = fitted_model.predict(X_test)\n",
    "\n",
    "# Calculate accuracy score\n",
    "from sklearn.metrics import accuracy_score\n",
    "accuracy = accuracy_score(y_test, y_pred)\n",
    "\n",
    "# Print the accuracy score\n",
    "print(\"Accuracy:\", accuracy)\n"
   ]
  },
  {
   "cell_type": "markdown",
   "id": "e70e9814",
   "metadata": {},
   "source": [
    "##### Confusion matrix calculation\n",
    " \n",
    "The next 3 cells are meant for providing hints to calculating the confusion matrix "
   ]
  },
  {
   "cell_type": "code",
   "execution_count": 533,
   "id": "ba7e59e9",
   "metadata": {},
   "outputs": [
    {
     "data": {
      "text/plain": [
       "{'column_transform': ColumnTransformer(transformers=[('mean_imputer',\n",
       "                                  Pipeline(steps=[('imputer', SimpleImputer())]),\n",
       "                                  ['Glucose', 'BloodPressure', 'BMI']),\n",
       "                                 ('identity_transformer',\n",
       "                                  FunctionTransformer(func=<function <lambda> at 0x000002400E17CAF0>),\n",
       "                                  ['Pregnancies', 'SkinThickness', 'Insulin',\n",
       "                                   'DiabetesPedigreeFunction', 'Age'])]),\n",
       " 'iterative_imputer': IterativeImputer(),\n",
       " 'scaler': StandardScaler(),\n",
       " 'knn_classifier': KNeighborsClassifier()}"
      ]
     },
     "execution_count": 533,
     "metadata": {},
     "output_type": "execute_result"
    }
   ],
   "source": [
    "# TODO: 39 Put your pipeline name in place of question mark\n",
    "pipeline.named_steps"
   ]
  },
  {
   "cell_type": "code",
   "execution_count": 534,
   "id": "604e19fb",
   "metadata": {},
   "outputs": [],
   "source": [
    "# TODO: 40 Put your pipeline name in place of first question mark \n",
    "# and appropriate value for second question mark to display the model\n",
    "knn_model = pipeline.named_steps['knn_classifier']\n"
   ]
  },
  {
   "cell_type": "code",
   "execution_count": 535,
   "id": "1c7dac0c",
   "metadata": {},
   "outputs": [],
   "source": [
    "# TODO: 41 Put your pipeline name in place of first question mark \n",
    "# and appropriate value for second question mark to display the model\n",
    "knn_model_attributes = vars(pipeline.named_steps['knn_classifier'])\n"
   ]
  },
  {
   "cell_type": "code",
   "execution_count": 536,
   "id": "5e8fbb9f",
   "metadata": {},
   "outputs": [
    {
     "data": {
      "image/png": "[encoded data removed]",
      "text/plain": [
       "<Figure size 640x480 with 2 Axes>"
      ]
     },
     "metadata": {},
     "output_type": "display_data"
    }
   ],
   "source": [
    "# TODO: 42 Write code to display a confusion matrix by filling the question marks\n",
    "from sklearn.metrics import confusion_matrix, ConfusionMatrixDisplay\n",
    "\n",
    "\n",
    "cm = confusion_matrix(y_test, y_pred, labels=[0, 1])\n",
    "disp = ConfusionMatrixDisplay(confusion_matrix=cm, display_labels=['No Diabetes', 'Diabetes'])\n",
    "disp.plot()\n",
    "plt.show()"
   ]
  },
  {
   "cell_type": "code",
   "execution_count": 537,
   "id": "5a752f68",
   "metadata": {},
   "outputs": [
    {
     "name": "stdout",
     "output_type": "stream",
     "text": [
      "The confusion matrix quantifies the classification model performance, \n",
      "with True Positives indicating correct diabetes predictions and True Negatives representing accurate non-diabetes predictions.\n"
     ]
    }
   ],
   "source": [
    "# TODO: 43 Interpret the confusion matrix in your own words\n",
    "print('The confusion matrix quantifies the classification model performance, \\nwith True Positives indicating correct diabetes predictions and True Negatives representing accurate non-diabetes predictions.')\n"
   ]
  },
  {
   "cell_type": "markdown",
   "id": "dd219375",
   "metadata": {},
   "source": [
    "# Part 4: Save the model as json file, load & use it to do prediction\n",
    "\n",
    "This is optional and will be used to accumulate bonus points as a buffer for the semester lab exam if there is any shortfall"
   ]
  },
  {
   "cell_type": "code",
   "execution_count": 538,
   "id": "2c00e9e1",
   "metadata": {},
   "outputs": [],
   "source": [
    "import json\n",
    "# Save the model to a JSON file\n",
    "model_json = json.dumps(fitted_model.best_estimator_.named_steps, default=str)\n",
    "with open('model.json', 'w') as json_file:\n",
    "    json_file.write(model_json)\n",
    "\n",
    "# Load the model from the JSON file\n",
    "with open('model.json', 'r') as json_file:\n",
    "    loaded_model_json = json_file.read()\n",
    "loaded_model = json.loads(loaded_model_json)\n"
   ]
  },
  {
   "cell_type": "code",
   "execution_count": 542,
   "id": "491196a1",
   "metadata": {},
   "outputs": [
    {
     "ename": "AttributeError",
     "evalue": "module 'joblib' has no attribute 'dumps'",
     "output_type": "error",
     "traceback": [
      "\u001b[1;31m---------------------------------------------------------------------------\u001b[0m",
      "\u001b[1;31mAttributeError\u001b[0m                            Traceback (most recent call last)",
      "\u001b[1;32md:\\Masters\\Lab\\Applied Machine Learning\\Sessional 1\\AML_Sessional_1_Students.ipynb Cell 75\u001b[0m line \u001b[0;36m8\n\u001b[0;32m      <a href='vscode-notebook-cell:/d%3A/Masters/Lab/Applied%20Machine%20Learning/Sessional%201/AML_Sessional_1_Students.ipynb#Y125sZmlsZQ%3D%3D?line=4'>5</a>\u001b[0m knn_model \u001b[39m=\u001b[39m pipeline\u001b[39m.\u001b[39mnamed_steps[\u001b[39m'\u001b[39m\u001b[39mknn_classifier\u001b[39m\u001b[39m'\u001b[39m]\n\u001b[0;32m      <a href='vscode-notebook-cell:/d%3A/Masters/Lab/Applied%20Machine%20Learning/Sessional%201/AML_Sessional_1_Students.ipynb#Y125sZmlsZQ%3D%3D?line=6'>7</a>\u001b[0m \u001b[39m# Serialize the KNN model to a binary format using joblib\u001b[39;00m\n\u001b[1;32m----> <a href='vscode-notebook-cell:/d%3A/Masters/Lab/Applied%20Machine%20Learning/Sessional%201/AML_Sessional_1_Students.ipynb#Y125sZmlsZQ%3D%3D?line=7'>8</a>\u001b[0m knn_model_bytes \u001b[39m=\u001b[39m joblib\u001b[39m.\u001b[39;49mdumps(knn_model)\n\u001b[0;32m     <a href='vscode-notebook-cell:/d%3A/Masters/Lab/Applied%20Machine%20Learning/Sessional%201/AML_Sessional_1_Students.ipynb#Y125sZmlsZQ%3D%3D?line=9'>10</a>\u001b[0m \u001b[39m# Convert the binary format to base64 encoded string\u001b[39;00m\n\u001b[0;32m     <a href='vscode-notebook-cell:/d%3A/Masters/Lab/Applied%20Machine%20Learning/Sessional%201/AML_Sessional_1_Students.ipynb#Y125sZmlsZQ%3D%3D?line=10'>11</a>\u001b[0m knn_model_base64 \u001b[39m=\u001b[39m base64\u001b[39m.\u001b[39mb64encode(knn_model_bytes)\u001b[39m.\u001b[39mdecode(\u001b[39m'\u001b[39m\u001b[39mutf-8\u001b[39m\u001b[39m'\u001b[39m)\n",
      "\u001b[1;31mAttributeError\u001b[0m: module 'joblib' has no attribute 'dumps'"
     ]
    }
   ],
   "source": [
    "import json,joblib,base64\n",
    "from sklearn.neighbors import KNeighborsClassifier\n",
    "\n",
    "# Assuming 'knn_classifier' is your KNN model\n",
    "knn_model = pipeline.named_steps['knn_classifier']\n",
    "\n",
    "# Serialize the KNN model to a binary format using joblib\n",
    "knn_model_bytes = joblib.dumps(knn_model)\n",
    "\n",
    "# Convert the binary format to base64 encoded string\n",
    "knn_model_base64 = base64.b64encode(knn_model_bytes).decode('utf-8')\n",
    "\n",
    "# Create a dictionary to store the model information\n",
    "model_info = {\n",
    "    'model_type': 'KNeighborsClassifier',\n",
    "    'model_base64': knn_model_base64\n",
    "}\n",
    "\n",
    "# Save the model information as a JSON file\n",
    "with open('knn_model.json', 'w') as json_file:\n",
    "    json.dump(model_info, json_file)\n"
   ]
  },
  {
   "cell_type": "code",
   "execution_count": 543,
   "id": "6802ca60",
   "metadata": {},
   "outputs": [
    {
     "ename": "FileNotFoundError",
     "evalue": "[Errno 2] No such file or directory: 'knn_model.json'",
     "output_type": "error",
     "traceback": [
      "\u001b[1;31m---------------------------------------------------------------------------\u001b[0m",
      "\u001b[1;31mFileNotFoundError\u001b[0m                         Traceback (most recent call last)",
      "\u001b[1;32md:\\Masters\\Lab\\Applied Machine Learning\\Sessional 1\\AML_Sessional_1_Students.ipynb Cell 76\u001b[0m line \u001b[0;36m7\n\u001b[0;32m      <a href='vscode-notebook-cell:/d%3A/Masters/Lab/Applied%20Machine%20Learning/Sessional%201/AML_Sessional_1_Students.ipynb#Y140sZmlsZQ%3D%3D?line=3'>4</a>\u001b[0m \u001b[39mfrom\u001b[39;00m \u001b[39msklearn\u001b[39;00m\u001b[39m.\u001b[39;00m\u001b[39mneighbors\u001b[39;00m \u001b[39mimport\u001b[39;00m KNeighborsClassifier\n\u001b[0;32m      <a href='vscode-notebook-cell:/d%3A/Masters/Lab/Applied%20Machine%20Learning/Sessional%201/AML_Sessional_1_Students.ipynb#Y140sZmlsZQ%3D%3D?line=5'>6</a>\u001b[0m \u001b[39m# Load the model information from the JSON file\u001b[39;00m\n\u001b[1;32m----> <a href='vscode-notebook-cell:/d%3A/Masters/Lab/Applied%20Machine%20Learning/Sessional%201/AML_Sessional_1_Students.ipynb#Y140sZmlsZQ%3D%3D?line=6'>7</a>\u001b[0m \u001b[39mwith\u001b[39;00m \u001b[39mopen\u001b[39;49m(\u001b[39m'\u001b[39;49m\u001b[39mknn_model.json\u001b[39;49m\u001b[39m'\u001b[39;49m, \u001b[39m'\u001b[39;49m\u001b[39mr\u001b[39;49m\u001b[39m'\u001b[39;49m) \u001b[39mas\u001b[39;00m json_file:\n\u001b[0;32m      <a href='vscode-notebook-cell:/d%3A/Masters/Lab/Applied%20Machine%20Learning/Sessional%201/AML_Sessional_1_Students.ipynb#Y140sZmlsZQ%3D%3D?line=7'>8</a>\u001b[0m     model_info \u001b[39m=\u001b[39m json\u001b[39m.\u001b[39mload(json_file)\n\u001b[0;32m     <a href='vscode-notebook-cell:/d%3A/Masters/Lab/Applied%20Machine%20Learning/Sessional%201/AML_Sessional_1_Students.ipynb#Y140sZmlsZQ%3D%3D?line=9'>10</a>\u001b[0m \u001b[39m# Decode the base64 encoded string to binary format\u001b[39;00m\n",
      "File \u001b[1;32m~\\AppData\\Local\\Packages\\PythonSoftwareFoundation.Python.3.10_qbz5n2kfra8p0\\LocalCache\\local-packages\\Python310\\site-packages\\IPython\\core\\interactiveshell.py:284\u001b[0m, in \u001b[0;36m_modified_open\u001b[1;34m(file, *args, **kwargs)\u001b[0m\n\u001b[0;32m    277\u001b[0m \u001b[39mif\u001b[39;00m file \u001b[39min\u001b[39;00m {\u001b[39m0\u001b[39m, \u001b[39m1\u001b[39m, \u001b[39m2\u001b[39m}:\n\u001b[0;32m    278\u001b[0m     \u001b[39mraise\u001b[39;00m \u001b[39mValueError\u001b[39;00m(\n\u001b[0;32m    279\u001b[0m         \u001b[39mf\u001b[39m\u001b[39m\"\u001b[39m\u001b[39mIPython won\u001b[39m\u001b[39m'\u001b[39m\u001b[39mt let you open fd=\u001b[39m\u001b[39m{\u001b[39;00mfile\u001b[39m}\u001b[39;00m\u001b[39m by default \u001b[39m\u001b[39m\"\u001b[39m\n\u001b[0;32m    280\u001b[0m         \u001b[39m\"\u001b[39m\u001b[39mas it is likely to crash IPython. If you know what you are doing, \u001b[39m\u001b[39m\"\u001b[39m\n\u001b[0;32m    281\u001b[0m         \u001b[39m\"\u001b[39m\u001b[39myou can use builtins\u001b[39m\u001b[39m'\u001b[39m\u001b[39m open.\u001b[39m\u001b[39m\"\u001b[39m\n\u001b[0;32m    282\u001b[0m     )\n\u001b[1;32m--> 284\u001b[0m \u001b[39mreturn\u001b[39;00m io_open(file, \u001b[39m*\u001b[39margs, \u001b[39m*\u001b[39m\u001b[39m*\u001b[39mkwargs)\n",
      "\u001b[1;31mFileNotFoundError\u001b[0m: [Errno 2] No such file or directory: 'knn_model.json'"
     ]
    }
   ],
   "source": [
    "import json\n",
    "import joblib\n",
    "import base64\n",
    "from sklearn.neighbors import KNeighborsClassifier\n",
    "\n",
    "# Load the model information from the JSON file\n",
    "with open('knn_model.json', 'r') as json_file:\n",
    "    model_info = json.load(json_file)\n",
    "\n",
    "# Decode the base64 encoded string to binary format\n",
    "knn_model_bytes = base64.b64decode(model_info['model_base64'])\n",
    "\n",
    "# Deserialize the KNN model using joblib\n",
    "knn_model = joblib.loads(knn_model_bytes)\n",
    "\n",
    "# You can now use 'knn_model' for predictions\n",
    "# For example, knn_model.predict(X_test)\n"
   ]
  }
 ],
 "metadata": {
  "kernelspec": {
   "display_name": "Python 3 (ipykernel)",
   "language": "python",
   "name": "python3"
  },
  "language_info": {
   "codemirror_mode": {
    "name": "ipython",
    "version": 3
   },
   "file_extension": ".py",
   "mimetype": "text/x-python",
   "name": "python",
   "nbconvert_exporter": "python",
   "pygments_lexer": "ipython3",
   "version": "3.10.11"
  }
 },
 "nbformat": 4,
 "nbformat_minor": 5
}
